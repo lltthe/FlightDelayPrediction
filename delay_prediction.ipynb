{
 "cells": [
  {
   "cell_type": "markdown",
   "metadata": {
    "id": "v-0kJBkYE_dl"
   },
   "source": [
    "# Job Application Test - Lâm Lê Thanh Thế\n",
    "# Airflight Delay Prediction"
   ]
  },
  {
   "cell_type": "markdown",
   "metadata": {
    "id": "FNjWPcpfE_dp"
   },
   "source": [
    "## About The Project\n",
    "\n",
    "- This project serves as a technical test for the \"Data Science Specialist\" position application of FE Credit, Vietnam.\n",
    "\n",
    "- Assignee as well as owner:\n",
    "\n",
    "| | |\n",
    "| :- | :- |\n",
    "| **Full Name** | Lâm Lê Thanh Thế |\n",
    "| **Phone** | 0979 093 710 |\n",
    "| **Email** | lamlethanhthe@gmail.com |\n",
    "\n",
    "- May-June, 2021"
   ]
  },
  {
   "cell_type": "markdown",
   "metadata": {
    "id": "XyaC4cTSHrCW"
   },
   "source": [
    "## Problem Statement\n",
    "\n",
    "- This project aims at predicting airflight delays using [the data of airline information from Data Expo 2009](https://community.amstat.org/jointscsg-section/dataexpo/dataexpo2009), following the requirements stated in ***project_requirements.docx***.\n",
    "\n",
    "- As defined in the requirements, a flight will be counted as late if it is **more than** 30 minutes late; hence it will be considered as just on time when exactly 30 minutes behind the schedule."
   ]
  },
  {
   "cell_type": "markdown",
   "metadata": {
    "id": "ddQmKdBBE_dq"
   },
   "source": [
    "### Two types of airflight delays\n",
    "\n",
    "- Talking about airflight delays, one could mean:\n",
    "\n",
    "    - **Departure Delays**: when a flight takes off later than the scheduled time from *computer/central reservation systems (CRS)*.\n",
    "\n",
    "    - **Arrival Delays**: when a flight arrives later than the scheduled time from CRS.\n",
    "\n",
    "- **For simplicity and to the extent of demonstration, this project will only consider *Departure delays* as its sole subject to predict.**\n",
    "\n",
    "    - *Reason*: Departure delays are usually what annoy customers more than arrival delays, and arrival delays of one flight can be regared in the contribution to other flights' departure delays."
   ]
  },
  {
   "cell_type": "markdown",
   "metadata": {
    "id": "b1rw0TePHy1O"
   },
   "source": [
    "### Partial data considered only\n",
    "\n",
    "- The original dataset from Data Expo 2019 is extremely large, containing airline information of the USA from 1987 to 2008 (20 years), with nearly 120 million records, 1.6GB compressed size and over 12GB unpacked size.\n",
    "\n",
    "- Therefore, **due to the resource limitations of my local machine, I will only conduct this project over the data of 2008**, with a good aware that fewer data can lead to lower models' performances. However, I believe this will not alter the original purpose of this project as a technical test."
   ]
  },
  {
   "cell_type": "markdown",
   "metadata": {
    "id": "vHp_-hd-IAul"
   },
   "source": [
    "## Environment Setup"
   ]
  },
  {
   "cell_type": "code",
   "execution_count": 2,
   "metadata": {
    "colab": {
     "base_uri": "https://localhost:8080/"
    },
    "id": "hGlLUmdqIFvC",
    "outputId": "f8699cfd-f38e-42eb-d531-edf991a5e22a"
   },
   "outputs": [
    {
     "name": "stdout",
     "output_type": "stream",
     "text": [
      "Mounted at /content/drive\n"
     ]
    }
   ],
   "source": [
    "'''\n",
    "Preparing Google Colab.\n",
    "'''\n",
    "\n",
    "from google.colab import drive\n",
    "drive.mount('/content/drive')"
   ]
  },
  {
   "cell_type": "code",
   "execution_count": 3,
   "metadata": {
    "colab": {
     "base_uri": "https://localhost:8080/"
    },
    "id": "IzHJMQgPJL0L",
    "outputId": "5316dd0c-20bd-4ccb-ba25-e8162d40defd"
   },
   "outputs": [
    {
     "name": "stdout",
     "output_type": "stream",
     "text": [
      "/content/drive/MyDrive/Job Application Tmp/FECredit-LamLeThanhThe\n"
     ]
    }
   ],
   "source": [
    "%cd '/content/drive/MyDrive/Job Application Tmp/FECredit-LamLeThanhThe/'"
   ]
  },
  {
   "cell_type": "code",
   "execution_count": null,
   "metadata": {},
   "outputs": [],
   "source": [
    "# !pip install keras-tuner\n",
    "# !conda install -c conda-forge keras-tuner"
   ]
  },
  {
   "cell_type": "code",
   "execution_count": 1,
   "metadata": {
    "id": "xzMkUKqVE_dr"
   },
   "outputs": [],
   "source": [
    "'''\n",
    "Preparing libraries.\n",
    "'''\n",
    "\n",
    "import numpy as np \n",
    "import matplotlib.pyplot as plt\n",
    "import pandas as pd\n",
    "from scipy import stats\n",
    "import seaborn as sns\n",
    "from sklearn.model_selection import train_test_split\n",
    "from sklearn.naive_bayes import GaussianNB\n",
    "from sklearn.metrics import accuracy_score\n",
    "from sklearn.linear_model import LogisticRegression, LinearRegression, SGDClassifier\n",
    "from sklearn.experimental import enable_hist_gradient_boosting\n",
    "from sklearn.ensemble import RandomForestClassifier, HistGradientBoostingClassifier\n",
    "from sklearn import svm, tree\n",
    "from sklearn.decomposition import PCA\n",
    "from sklearn.feature_selection import SelectKBest, RFE\n",
    "import tensorflow as tf\n",
    "from tensorflow.keras.models import Sequential\n",
    "from tensorflow.keras.layers import Dense, Dropout\n",
    "from tensorflow.keras.callbacks import ModelCheckpoint\n",
    "from kerastuner.tuners import RandomSearch"
   ]
  },
  {
   "cell_type": "markdown",
   "metadata": {
    "id": "bZ33aLawE_dr"
   },
   "source": [
    "## Data Preparation and Description\n",
    "\n",
    "- The data can be found in ***2008.csv***."
   ]
  },
  {
   "cell_type": "code",
   "execution_count": 2,
   "metadata": {
    "colab": {
     "base_uri": "https://localhost:8080/",
     "height": 215
    },
    "id": "H1m1m-r0E_ds",
    "outputId": "de7f1578-56ab-49b6-d20a-507ff110d7b0"
   },
   "outputs": [
    {
     "data": {
      "text/html": [
       "<div>\n",
       "<style scoped>\n",
       "    .dataframe tbody tr th:only-of-type {\n",
       "        vertical-align: middle;\n",
       "    }\n",
       "\n",
       "    .dataframe tbody tr th {\n",
       "        vertical-align: top;\n",
       "    }\n",
       "\n",
       "    .dataframe thead th {\n",
       "        text-align: right;\n",
       "    }\n",
       "</style>\n",
       "<table border=\"1\" class=\"dataframe\">\n",
       "  <thead>\n",
       "    <tr style=\"text-align: right;\">\n",
       "      <th></th>\n",
       "      <th>Year</th>\n",
       "      <th>Month</th>\n",
       "      <th>DayofMonth</th>\n",
       "      <th>DayOfWeek</th>\n",
       "      <th>DepTime</th>\n",
       "      <th>CRSDepTime</th>\n",
       "      <th>ArrTime</th>\n",
       "      <th>CRSArrTime</th>\n",
       "      <th>UniqueCarrier</th>\n",
       "      <th>FlightNum</th>\n",
       "      <th>...</th>\n",
       "      <th>TaxiIn</th>\n",
       "      <th>TaxiOut</th>\n",
       "      <th>Cancelled</th>\n",
       "      <th>CancellationCode</th>\n",
       "      <th>Diverted</th>\n",
       "      <th>CarrierDelay</th>\n",
       "      <th>WeatherDelay</th>\n",
       "      <th>NASDelay</th>\n",
       "      <th>SecurityDelay</th>\n",
       "      <th>LateAircraftDelay</th>\n",
       "    </tr>\n",
       "  </thead>\n",
       "  <tbody>\n",
       "    <tr>\n",
       "      <th>0</th>\n",
       "      <td>2008</td>\n",
       "      <td>1</td>\n",
       "      <td>3</td>\n",
       "      <td>4</td>\n",
       "      <td>2003.0</td>\n",
       "      <td>1955</td>\n",
       "      <td>2211.0</td>\n",
       "      <td>2225</td>\n",
       "      <td>WN</td>\n",
       "      <td>335</td>\n",
       "      <td>...</td>\n",
       "      <td>4.0</td>\n",
       "      <td>8.0</td>\n",
       "      <td>0</td>\n",
       "      <td>NaN</td>\n",
       "      <td>0</td>\n",
       "      <td>NaN</td>\n",
       "      <td>NaN</td>\n",
       "      <td>NaN</td>\n",
       "      <td>NaN</td>\n",
       "      <td>NaN</td>\n",
       "    </tr>\n",
       "    <tr>\n",
       "      <th>1</th>\n",
       "      <td>2008</td>\n",
       "      <td>1</td>\n",
       "      <td>3</td>\n",
       "      <td>4</td>\n",
       "      <td>754.0</td>\n",
       "      <td>735</td>\n",
       "      <td>1002.0</td>\n",
       "      <td>1000</td>\n",
       "      <td>WN</td>\n",
       "      <td>3231</td>\n",
       "      <td>...</td>\n",
       "      <td>5.0</td>\n",
       "      <td>10.0</td>\n",
       "      <td>0</td>\n",
       "      <td>NaN</td>\n",
       "      <td>0</td>\n",
       "      <td>NaN</td>\n",
       "      <td>NaN</td>\n",
       "      <td>NaN</td>\n",
       "      <td>NaN</td>\n",
       "      <td>NaN</td>\n",
       "    </tr>\n",
       "    <tr>\n",
       "      <th>2</th>\n",
       "      <td>2008</td>\n",
       "      <td>1</td>\n",
       "      <td>3</td>\n",
       "      <td>4</td>\n",
       "      <td>628.0</td>\n",
       "      <td>620</td>\n",
       "      <td>804.0</td>\n",
       "      <td>750</td>\n",
       "      <td>WN</td>\n",
       "      <td>448</td>\n",
       "      <td>...</td>\n",
       "      <td>3.0</td>\n",
       "      <td>17.0</td>\n",
       "      <td>0</td>\n",
       "      <td>NaN</td>\n",
       "      <td>0</td>\n",
       "      <td>NaN</td>\n",
       "      <td>NaN</td>\n",
       "      <td>NaN</td>\n",
       "      <td>NaN</td>\n",
       "      <td>NaN</td>\n",
       "    </tr>\n",
       "    <tr>\n",
       "      <th>3</th>\n",
       "      <td>2008</td>\n",
       "      <td>1</td>\n",
       "      <td>3</td>\n",
       "      <td>4</td>\n",
       "      <td>926.0</td>\n",
       "      <td>930</td>\n",
       "      <td>1054.0</td>\n",
       "      <td>1100</td>\n",
       "      <td>WN</td>\n",
       "      <td>1746</td>\n",
       "      <td>...</td>\n",
       "      <td>3.0</td>\n",
       "      <td>7.0</td>\n",
       "      <td>0</td>\n",
       "      <td>NaN</td>\n",
       "      <td>0</td>\n",
       "      <td>NaN</td>\n",
       "      <td>NaN</td>\n",
       "      <td>NaN</td>\n",
       "      <td>NaN</td>\n",
       "      <td>NaN</td>\n",
       "    </tr>\n",
       "    <tr>\n",
       "      <th>4</th>\n",
       "      <td>2008</td>\n",
       "      <td>1</td>\n",
       "      <td>3</td>\n",
       "      <td>4</td>\n",
       "      <td>1829.0</td>\n",
       "      <td>1755</td>\n",
       "      <td>1959.0</td>\n",
       "      <td>1925</td>\n",
       "      <td>WN</td>\n",
       "      <td>3920</td>\n",
       "      <td>...</td>\n",
       "      <td>3.0</td>\n",
       "      <td>10.0</td>\n",
       "      <td>0</td>\n",
       "      <td>NaN</td>\n",
       "      <td>0</td>\n",
       "      <td>2.0</td>\n",
       "      <td>0.0</td>\n",
       "      <td>0.0</td>\n",
       "      <td>0.0</td>\n",
       "      <td>32.0</td>\n",
       "    </tr>\n",
       "  </tbody>\n",
       "</table>\n",
       "<p>5 rows × 29 columns</p>\n",
       "</div>"
      ],
      "text/plain": [
       "   Year  Month  DayofMonth  DayOfWeek  DepTime  CRSDepTime  ArrTime  \\\n",
       "0  2008      1           3          4   2003.0        1955   2211.0   \n",
       "1  2008      1           3          4    754.0         735   1002.0   \n",
       "2  2008      1           3          4    628.0         620    804.0   \n",
       "3  2008      1           3          4    926.0         930   1054.0   \n",
       "4  2008      1           3          4   1829.0        1755   1959.0   \n",
       "\n",
       "   CRSArrTime UniqueCarrier  FlightNum  ... TaxiIn  TaxiOut  Cancelled  \\\n",
       "0        2225            WN        335  ...    4.0      8.0          0   \n",
       "1        1000            WN       3231  ...    5.0     10.0          0   \n",
       "2         750            WN        448  ...    3.0     17.0          0   \n",
       "3        1100            WN       1746  ...    3.0      7.0          0   \n",
       "4        1925            WN       3920  ...    3.0     10.0          0   \n",
       "\n",
       "   CancellationCode  Diverted  CarrierDelay WeatherDelay NASDelay  \\\n",
       "0               NaN         0           NaN          NaN      NaN   \n",
       "1               NaN         0           NaN          NaN      NaN   \n",
       "2               NaN         0           NaN          NaN      NaN   \n",
       "3               NaN         0           NaN          NaN      NaN   \n",
       "4               NaN         0           2.0          0.0      0.0   \n",
       "\n",
       "   SecurityDelay  LateAircraftDelay  \n",
       "0            NaN                NaN  \n",
       "1            NaN                NaN  \n",
       "2            NaN                NaN  \n",
       "3            NaN                NaN  \n",
       "4            0.0               32.0  \n",
       "\n",
       "[5 rows x 29 columns]"
      ]
     },
     "execution_count": 2,
     "metadata": {},
     "output_type": "execute_result"
    }
   ],
   "source": [
    "'''\n",
    "Loading data.\n",
    "'''\n",
    "\n",
    "DAT_PATH = './2008.csv'\n",
    "\n",
    "df = pd.read_csv(DAT_PATH)\n",
    "df.head()"
   ]
  },
  {
   "cell_type": "code",
   "execution_count": null,
   "metadata": {
    "colab": {
     "base_uri": "https://localhost:8080/"
    },
    "id": "vIRLuk1aE_ds",
    "outputId": "17d5d17c-aed0-4138-eeac-608ffeca3789"
   },
   "outputs": [
    {
     "name": "stdout",
     "output_type": "stream",
     "text": [
      "Number of records: 7,009,728\n",
      "Number of features: 29\n",
      "Features:\n",
      "Index(['Year', 'Month', 'DayofMonth', 'DayOfWeek', 'DepTime', 'CRSDepTime',\n",
      "       'ArrTime', 'CRSArrTime', 'UniqueCarrier', 'FlightNum', 'TailNum',\n",
      "       'ActualElapsedTime', 'CRSElapsedTime', 'AirTime', 'ArrDelay',\n",
      "       'DepDelay', 'Origin', 'Dest', 'Distance', 'TaxiIn', 'TaxiOut',\n",
      "       'Cancelled', 'CancellationCode', 'Diverted', 'CarrierDelay',\n",
      "       'WeatherDelay', 'NASDelay', 'SecurityDelay', 'LateAircraftDelay'],\n",
      "      dtype='object')\n"
     ]
    }
   ],
   "source": [
    "print('Number of records:', f'{len(df.index):,}')\n",
    "print('Number of features:', len(df.columns))\n",
    "print('Features:')\n",
    "print(df.columns)"
   ]
  },
  {
   "cell_type": "markdown",
   "metadata": {
    "id": "cxH6jPRUE_ds"
   },
   "source": [
    "### Features explained\n",
    "\n",
    "- **Year**\n",
    "    - The year the flight took place.\n",
    "    - For this selected data, it is 2008 constantly.\n",
    "\n",
    "- **Month**\n",
    "    - The month the flight took place, in number format: 1, 2, 3, 4, ..., 12.\n",
    "\n",
    "- **DayofMonth**\n",
    "    - The day of month the flight took place, in number format, eg. 1, 2, ..., 31 *(for a month of 31 days)*.\n",
    "\n",
    "- **DayOfWeek**\n",
    "    - The day of week the flight took place, in number format: 1, 2, ..., 7.\n",
    "    - 1 means Sunday.\n",
    "\n",
    "- **DepTime**\n",
    "    - The actual departure time of the flight, in 24-hour format.\n",
    "    - Hour and minute are concatenated into a single number, eg. 1923 means 19:23, or 7:23 PM.\n",
    "    - Marked as 'NA' ('NaN') if the flight was canceled.\n",
    "\n",
    "- **CRSDepTime**\n",
    "    - The scheduled departure time of the flight from computer/central reservation systems (CRS).\n",
    "    - Same format and rules as *DepTime*.\n",
    "\n",
    "- **ArrTime**\n",
    "    - The actual arrival time of the flight.\n",
    "    - Same format and rules as *DepTime*.\n",
    "    - Marked as 'NA' ('NaN') if the flight was canceled or diverted.\n",
    "\n",
    "- **CRSArrTime**\n",
    "    - The scheduled arrival time of the flight from CRS.\n",
    "    - Same format and rules as *DepTime*.\n",
    "\n",
    "- **UniqueCarrier**\n",
    "    - A string code for the airline operating the flight.\n",
    "    - Seems to follow [IATA airline code](https://www.iata.org/en/publications/directories/code-search/) format.\n",
    "\n",
    "- **FlightNum**\n",
    "    - A positive integer code for the flight.\n",
    "\n",
    "- **TailNum**\n",
    "    - A string code for the flight's airplane.\n",
    "\n",
    "- **ActualElapsedTime**\n",
    "    - How long, in minutes, the flight actually took place.\n",
    "    - Marked as 'NA' ('NaN') if the flight was canceled or diverted.\n",
    "\n",
    "- **CRSElapsedTime**\n",
    "    - How long, in minutes, the flight took place estimated by CRS.\n",
    "\n",
    "- **AirTime**\n",
    "    - How long, in minutes, the airplane is airborne.\n",
    "    - Marked as 'NA' ('NaN') if the flight was canceled or diverted.\n",
    "\n",
    "- **ArrDelay**\n",
    "    - How much, in minutes, the arrival delay is.\n",
    "    - Negative number means the flight arrived earlier than CRS scheduled.\n",
    "    - Marked as 'NA' ('NaN') if the flight was canceled or diverted.\n",
    "\n",
    "- **DepDelay**\n",
    "    - Same as *ArrDelay* but for departure delay.\n",
    "    - Marked as 'NA' ('NaN') if the flight was canceled.\n",
    "\n",
    "- **Origin**\n",
    "    - The location where the flight took off.\n",
    "\n",
    "- **Dest**\n",
    "    - The location where the flight headed.\n",
    "\n",
    "- **Distance**\n",
    "    - Distance between the origin and destination in kilometers.\n",
    "\n",
    "- **TaxiIn**\n",
    "    - How long, in minutes, the airplane moved on the ground into the hangar.\n",
    "    - This is for docking the airplane at the destination's airport after the flight arrives.\n",
    "    - Marked as 'NA' ('NaN') if the flight was canceled or diverted.\n",
    "\n",
    "- **TaxiOut**\n",
    "    - Same as *TaxiIn* but the airplane exited the hangar to take off.\n",
    "    - Marked as 'NA' ('NaN') if the flight was canceled.\n",
    "\n",
    "- **Cancelled**\n",
    "    - Whether the flight was cancelled, coded as 0 - No and 1 - Yes.\n",
    "\n",
    "- **CancellationCode**\n",
    "    - A string code for the cancellation type, eg. A, B, C, D, ...\n",
    "    - Left blank if the flight was not cancelled.\n",
    "\n",
    "- **Diverted**\n",
    "    - Whether the flight changed direction to a different destination or not, coded as 0 - No and 1 - Yes.\n",
    "\n",
    "- **CarrierDelay**\n",
    "    - How long, in minutes, of delays due to other carrier (airline) services.\n",
    "    - Marked as 'NA' ('NaN') if no delay or the flight was canceled or diverted.\n",
    "\n",
    "- **WeatherDelay**\n",
    "    - How long, in minutes, the flight was delayed due to bad weather.\n",
    "    - Marked as 'NA' ('NaN') if no delay or the flight was canceled or diverted.    \n",
    "\n",
    "- **NASDelay**\n",
    "    - How long, in minutes, of delays due to The National Airspace System (NAS) - an airflights and airports controlling system of the USA.\n",
    "    - Marked as 'NA' ('NaN') if no delay or the flight was canceled or diverted.\n",
    "\n",
    "- **SecurityDelay**\n",
    "    - How long, in minutes, of delays due to security problems.\n",
    "    - Marked as 'NA' ('NaN') if no delay or the flight was canceled or diverted.\n",
    "\n",
    "- **LateAircraftDelay**\n",
    "    - How long, in minutes, of delays due to slow airplane preparation.\n",
    "    - Marked as 'NA' ('NaN') if no delay or the flight was canceled or diverted."
   ]
  },
  {
   "cell_type": "markdown",
   "metadata": {
    "id": "Y6wbi26cE_du"
   },
   "source": [
    "### Data preprocessing\n",
    "\n",
    "- We do not need cancelled flights as they do not have departure delay times needed to learn in this project.\n",
    "\n",
    "- When a flight is cancelled or diverted, arrival and flying information such as ArrTime, ArrDelay, ActualElapsedTime, ... is not available. Actually, as agreed that we only learn departure delays, those features are believed to have weak relations with our subject; hence, we can obmit them.\n",
    "\n",
    "- TaxiOut, CarrierDelay, WeatherDelay, NASDelay, SecurityDelay, and LateAircraftDelay are sometimes marked as 0 as well as 'NaN' inconsistently in this dataset. We can replace all 'NaN' values with 0 without changing the features' meanings."
   ]
  },
  {
   "cell_type": "code",
   "execution_count": 3,
   "metadata": {
    "colab": {
     "base_uri": "https://localhost:8080/",
     "height": 215
    },
    "id": "d80gLr3bE_dv",
    "outputId": "08716725-cbe7-472e-f2a8-4a16e800af9b"
   },
   "outputs": [
    {
     "data": {
      "text/html": [
       "<div>\n",
       "<style scoped>\n",
       "    .dataframe tbody tr th:only-of-type {\n",
       "        vertical-align: middle;\n",
       "    }\n",
       "\n",
       "    .dataframe tbody tr th {\n",
       "        vertical-align: top;\n",
       "    }\n",
       "\n",
       "    .dataframe thead th {\n",
       "        text-align: right;\n",
       "    }\n",
       "</style>\n",
       "<table border=\"1\" class=\"dataframe\">\n",
       "  <thead>\n",
       "    <tr style=\"text-align: right;\">\n",
       "      <th></th>\n",
       "      <th>Year</th>\n",
       "      <th>Month</th>\n",
       "      <th>DayofMonth</th>\n",
       "      <th>DayOfWeek</th>\n",
       "      <th>DepTime</th>\n",
       "      <th>CRSDepTime</th>\n",
       "      <th>UniqueCarrier</th>\n",
       "      <th>FlightNum</th>\n",
       "      <th>TailNum</th>\n",
       "      <th>DepDelay</th>\n",
       "      <th>Origin</th>\n",
       "      <th>Dest</th>\n",
       "      <th>Distance</th>\n",
       "      <th>TaxiOut</th>\n",
       "      <th>Diverted</th>\n",
       "      <th>CarrierDelay</th>\n",
       "      <th>WeatherDelay</th>\n",
       "      <th>NASDelay</th>\n",
       "      <th>SecurityDelay</th>\n",
       "      <th>LateAircraftDelay</th>\n",
       "    </tr>\n",
       "  </thead>\n",
       "  <tbody>\n",
       "    <tr>\n",
       "      <th>0</th>\n",
       "      <td>2008</td>\n",
       "      <td>1</td>\n",
       "      <td>3</td>\n",
       "      <td>4</td>\n",
       "      <td>2003.0</td>\n",
       "      <td>1955</td>\n",
       "      <td>WN</td>\n",
       "      <td>335</td>\n",
       "      <td>N712SW</td>\n",
       "      <td>8.0</td>\n",
       "      <td>IAD</td>\n",
       "      <td>TPA</td>\n",
       "      <td>810</td>\n",
       "      <td>8.0</td>\n",
       "      <td>0</td>\n",
       "      <td>0.0</td>\n",
       "      <td>0.0</td>\n",
       "      <td>0.0</td>\n",
       "      <td>0.0</td>\n",
       "      <td>0.0</td>\n",
       "    </tr>\n",
       "    <tr>\n",
       "      <th>1</th>\n",
       "      <td>2008</td>\n",
       "      <td>1</td>\n",
       "      <td>3</td>\n",
       "      <td>4</td>\n",
       "      <td>754.0</td>\n",
       "      <td>735</td>\n",
       "      <td>WN</td>\n",
       "      <td>3231</td>\n",
       "      <td>N772SW</td>\n",
       "      <td>19.0</td>\n",
       "      <td>IAD</td>\n",
       "      <td>TPA</td>\n",
       "      <td>810</td>\n",
       "      <td>10.0</td>\n",
       "      <td>0</td>\n",
       "      <td>0.0</td>\n",
       "      <td>0.0</td>\n",
       "      <td>0.0</td>\n",
       "      <td>0.0</td>\n",
       "      <td>0.0</td>\n",
       "    </tr>\n",
       "    <tr>\n",
       "      <th>2</th>\n",
       "      <td>2008</td>\n",
       "      <td>1</td>\n",
       "      <td>3</td>\n",
       "      <td>4</td>\n",
       "      <td>628.0</td>\n",
       "      <td>620</td>\n",
       "      <td>WN</td>\n",
       "      <td>448</td>\n",
       "      <td>N428WN</td>\n",
       "      <td>8.0</td>\n",
       "      <td>IND</td>\n",
       "      <td>BWI</td>\n",
       "      <td>515</td>\n",
       "      <td>17.0</td>\n",
       "      <td>0</td>\n",
       "      <td>0.0</td>\n",
       "      <td>0.0</td>\n",
       "      <td>0.0</td>\n",
       "      <td>0.0</td>\n",
       "      <td>0.0</td>\n",
       "    </tr>\n",
       "    <tr>\n",
       "      <th>3</th>\n",
       "      <td>2008</td>\n",
       "      <td>1</td>\n",
       "      <td>3</td>\n",
       "      <td>4</td>\n",
       "      <td>926.0</td>\n",
       "      <td>930</td>\n",
       "      <td>WN</td>\n",
       "      <td>1746</td>\n",
       "      <td>N612SW</td>\n",
       "      <td>-4.0</td>\n",
       "      <td>IND</td>\n",
       "      <td>BWI</td>\n",
       "      <td>515</td>\n",
       "      <td>7.0</td>\n",
       "      <td>0</td>\n",
       "      <td>0.0</td>\n",
       "      <td>0.0</td>\n",
       "      <td>0.0</td>\n",
       "      <td>0.0</td>\n",
       "      <td>0.0</td>\n",
       "    </tr>\n",
       "    <tr>\n",
       "      <th>4</th>\n",
       "      <td>2008</td>\n",
       "      <td>1</td>\n",
       "      <td>3</td>\n",
       "      <td>4</td>\n",
       "      <td>1829.0</td>\n",
       "      <td>1755</td>\n",
       "      <td>WN</td>\n",
       "      <td>3920</td>\n",
       "      <td>N464WN</td>\n",
       "      <td>34.0</td>\n",
       "      <td>IND</td>\n",
       "      <td>BWI</td>\n",
       "      <td>515</td>\n",
       "      <td>10.0</td>\n",
       "      <td>0</td>\n",
       "      <td>2.0</td>\n",
       "      <td>0.0</td>\n",
       "      <td>0.0</td>\n",
       "      <td>0.0</td>\n",
       "      <td>32.0</td>\n",
       "    </tr>\n",
       "  </tbody>\n",
       "</table>\n",
       "</div>"
      ],
      "text/plain": [
       "   Year  Month  DayofMonth  DayOfWeek  DepTime  CRSDepTime UniqueCarrier  \\\n",
       "0  2008      1           3          4   2003.0        1955            WN   \n",
       "1  2008      1           3          4    754.0         735            WN   \n",
       "2  2008      1           3          4    628.0         620            WN   \n",
       "3  2008      1           3          4    926.0         930            WN   \n",
       "4  2008      1           3          4   1829.0        1755            WN   \n",
       "\n",
       "   FlightNum TailNum  DepDelay Origin Dest  Distance  TaxiOut  Diverted  \\\n",
       "0        335  N712SW       8.0    IAD  TPA       810      8.0         0   \n",
       "1       3231  N772SW      19.0    IAD  TPA       810     10.0         0   \n",
       "2        448  N428WN       8.0    IND  BWI       515     17.0         0   \n",
       "3       1746  N612SW      -4.0    IND  BWI       515      7.0         0   \n",
       "4       3920  N464WN      34.0    IND  BWI       515     10.0         0   \n",
       "\n",
       "   CarrierDelay  WeatherDelay  NASDelay  SecurityDelay  LateAircraftDelay  \n",
       "0           0.0           0.0       0.0            0.0                0.0  \n",
       "1           0.0           0.0       0.0            0.0                0.0  \n",
       "2           0.0           0.0       0.0            0.0                0.0  \n",
       "3           0.0           0.0       0.0            0.0                0.0  \n",
       "4           2.0           0.0       0.0            0.0               32.0  "
      ]
     },
     "execution_count": 3,
     "metadata": {},
     "output_type": "execute_result"
    }
   ],
   "source": [
    "# Removing cancelled flights which have DepDelay = 'NaN'.\n",
    "df.dropna(subset=['DepDelay'], inplace=True)\n",
    "\n",
    "# Removing unrelated columns compared with DepDelay, eg. arrival, flying, and cancellation info.\n",
    "df.drop(columns=['ArrTime', 'CRSArrTime', 'ActualElapsedTime', 'CRSElapsedTime', 'AirTime', 'ArrDelay', 'Cancelled', 'CancellationCode', 'TaxiIn'], inplace=True)\n",
    "\n",
    "# Replacing other 'NaN' delay times as 0.\n",
    "df.fillna({'TaxiOut': 0, 'CarrierDelay': 0, 'WeatherDelay': 0, 'NASDelay': 0, 'SecurityDelay': 0, 'LateAircraftDelay': 0}, inplace=True)\n",
    "\n",
    "df.head()"
   ]
  },
  {
   "cell_type": "code",
   "execution_count": null,
   "metadata": {
    "colab": {
     "base_uri": "https://localhost:8080/"
    },
    "id": "GrUzJv9SLcVD",
    "outputId": "42059b66-9d41-40fb-ec46-0b32deb426f4"
   },
   "outputs": [
    {
     "name": "stdout",
     "output_type": "stream",
     "text": [
      "After preprocessing,\n",
      "Number of records: 6,873,482\n",
      "Number of features: 20\n"
     ]
    }
   ],
   "source": [
    "print('After preprocessing,')\n",
    "print('Number of records:', f'{len(df.index):,}')\n",
    "print('Number of features:', f'{len(df.columns)}')"
   ]
  },
  {
   "cell_type": "markdown",
   "metadata": {
    "id": "eaUo12NFE_dw"
   },
   "source": [
    "### Statistics of Departure delays"
   ]
  },
  {
   "cell_type": "code",
   "execution_count": null,
   "metadata": {
    "colab": {
     "base_uri": "https://localhost:8080/"
    },
    "id": "SfZhFZ80E_dw",
    "outputId": "7211f30e-762d-4be0-8b43-70cdfbb85e80"
   },
   "outputs": [
    {
     "name": "stdout",
     "output_type": "stream",
     "text": [
      "Min: -534.0\n",
      "Max: 2467.0\n",
      "Mean: 9.972570088930182\n",
      "Median: -1.0\n",
      "Standard deviation: 35.31126820889378\n",
      "Variance: 1246.8856625204326\n",
      "Q1: -4.0\n",
      "Q3: 8.0\n",
      "IQR: 12.0\n"
     ]
    }
   ],
   "source": [
    "depDelays = df['DepDelay']\n",
    "\n",
    "print('Min:', np.min(depDelays))\n",
    "print('Max:', np.max(depDelays))\n",
    "print('Mean:', np.mean(depDelays))\n",
    "print('Median:', np.median(depDelays))\n",
    "\n",
    "std = np.std(depDelays)\n",
    "print('Standard deviation:', std) # statistics.stdev() is slow for large numpy array\n",
    "print('Variance:', std ** 2)\n",
    "\n",
    "q1 = np.percentile(depDelays, 25, interpolation='midpoint')\n",
    "q3 = np.percentile(depDelays, 75, interpolation='midpoint')\n",
    "print('Q1:', q1)\n",
    "print('Q3:', q3)\n",
    "print('IQR:', q3 - q1)"
   ]
  },
  {
   "cell_type": "markdown",
   "metadata": {
    "id": "y8yQ71hBE_dw"
   },
   "source": [
    "## Data Filtering and Visualization\n",
    "\n",
    "- For demonstration, only some features will be used in each plot.\n",
    "\n",
    "- Sometimes, data filtering is carried when preparing data for a plot."
   ]
  },
  {
   "cell_type": "markdown",
   "metadata": {
    "id": "3UXNtxfmSeTk"
   },
   "source": [
    "### Scatter plot\n",
    "\n",
    "- Plotting DepDelay against DepTime."
   ]
  },
  {
   "cell_type": "code",
   "execution_count": null,
   "metadata": {
    "colab": {
     "base_uri": "https://localhost:8080/",
     "height": 388
    },
    "id": "h1IXQr6iTmcm",
    "outputId": "32b70b06-e97c-4374-819e-ddf4d3044bee"
   },
   "outputs": [
    {
     "data": {
      "image/png": "[encoded data removed]",
      "text/plain": [
       "<Figure size 864x432 with 1 Axes>"
      ]
     },
     "metadata": {
      "needs_background": "light",
      "tags": []
     },
     "output_type": "display_data"
    }
   ],
   "source": [
    "plt.figure(figsize=(12, 6))\n",
    "plt.scatter(df['DepTime'], depDelays)\n",
    "plt.xlabel('Departure Time')\n",
    "plt.ylabel('Departure Delay (minutes)')\n",
    "plt.axhline(y=0, color='r')\n",
    "plt.show()"
   ]
  },
  {
   "cell_type": "markdown",
   "metadata": {
    "id": "pWRq0_ZEVxXN"
   },
   "source": [
    "- **Observations:**\n",
    "\n",
    "    - Departure delays commonly fall in the range of a bit smaller than 0 up to 1500 minutes . Only a few, 4-5, outliers are not in this range.\n",
    "    \n",
    "    - Lates are much longer around 6 AM to 2 PM, with many in 1000 to 1500 minutes. Outside these hours, lates usually take from 0 to 600 minutes."
   ]
  },
  {
   "cell_type": "markdown",
   "metadata": {
    "id": "gdnZydUsZFiD"
   },
   "source": [
    "### Bar graph\n",
    "\n",
    "- Plotting counts of delays over 30 minutes among days of week, across months."
   ]
  },
  {
   "cell_type": "code",
   "execution_count": null,
   "metadata": {
    "id": "ymn8X6l2Z9PJ"
   },
   "outputs": [],
   "source": [
    "DELAY_THRESHOLD = 30\n",
    "\n",
    "barDat = df[['Month', 'DayOfWeek', 'DepDelay']]\n",
    "barDat = barDat[barDat['DepDelay'] > DELAY_THRESHOLD]\n",
    "barDat = barDat.groupby(['Month', 'DayOfWeek']).count().reset_index()"
   ]
  },
  {
   "cell_type": "code",
   "execution_count": null,
   "metadata": {
    "colab": {
     "base_uri": "https://localhost:8080/",
     "height": 388
    },
    "id": "DSqI9_qKbZEA",
    "outputId": "c361568f-5c8a-4a4c-d58d-bbde60605882"
   },
   "outputs": [
    {
     "data": {
      "image/png": "[encoded data removed]",
      "text/plain": [
       "<Figure size 1296x432 with 1 Axes>"
      ]
     },
     "metadata": {
      "needs_background": "light",
      "tags": []
     },
     "output_type": "display_data"
    }
   ],
   "source": [
    "BAR_WIDTH = 0.25\n",
    "\n",
    "plt.figure(figsize=(18, 6))\n",
    "\n",
    "X = [barDat[barDat['DayOfWeek'] == i]['DepDelay'].values for i in range(1, 8)]\n",
    "\n",
    "pos = [[2 * i for i in range(len(X[0]))]]\n",
    "for i in range(1, 7):\n",
    "    pos.append([x + BAR_WIDTH for x in pos[i - 1]])\n",
    "\n",
    "colors = ['r', 'g', 'b', 'c', 'm', 'y', 'k']\n",
    "labels = ['S', '2', '3', '4', '5', '6', '7']\n",
    "\n",
    "for i in range(7):\n",
    "    plt.bar(pos[i], X[i], color=colors[i], width=BAR_WIDTH, label=labels[i])\n",
    "\n",
    "plt.xlabel('Month')\n",
    "plt.ylabel('Count of Departure Delay > 30 minutes')\n",
    "plt.xticks([r + BAR_WIDTH * 3 for r in pos[0]], [str(j) for j in range(1, 13)])\n",
    "plt.legend()\n",
    "\n",
    "plt.show()"
   ]
  },
  {
   "cell_type": "markdown",
   "metadata": {
    "id": "4jr7MTp8nquF"
   },
   "source": [
    "- **Observations:**\n",
    "    \n",
    "    - Sunday has really high delay counts in December, as people are having Christmas and New Year.\n",
    "    \n",
    "    - In other months, Thursday and Saturday usually have high delay counts in a month.\n",
    "\n",
    "    - Over all days of week, the number of delays are high in the begining (first 3 months), the middle (June to August), and the end (December) of year 2008. It tends to be low in April - May and even lower in September to November."
   ]
  },
  {
   "cell_type": "markdown",
   "metadata": {
    "id": "9iv-UN0vpqy5"
   },
   "source": [
    "### Histogram\n",
    "\n",
    "- Plotting DepDelay, after removing some outliers outside [Q1 - 1.5 * IQR, Q3 + 1.5 * IQR]."
   ]
  },
  {
   "cell_type": "code",
   "execution_count": null,
   "metadata": {
    "colab": {
     "base_uri": "https://localhost:8080/",
     "height": 345
    },
    "id": "e2I10EQ-pyX9",
    "outputId": "e897a362-a1be-4a06-8a74-66d1e240b938"
   },
   "outputs": [
    {
     "data": {
      "image/png": "[encoded data removed]",
      "text/plain": [
       "<Figure size 576x360 with 1 Axes>"
      ]
     },
     "metadata": {
      "needs_background": "light",
      "tags": []
     },
     "output_type": "display_data"
    }
   ],
   "source": [
    "iqr = q3 - q1\n",
    "lowerLim = q1 - 1.5 * iqr\n",
    "upperLim = q3 + 1.5 * iqr\n",
    "\n",
    "histDat = [x for x in depDelays if x >= lowerLim and x <= upperLim]\n",
    "\n",
    "plt.figure(figsize=(8, 5))\n",
    "plt.hist(histDat, bins=20)\n",
    "plt.xlabel('Departure Delay (minutes)')\n",
    "plt.ylabel('Frequency')\n",
    "plt.show()"
   ]
  },
  {
   "cell_type": "markdown",
   "metadata": {
    "id": "nXi5vapStXpj"
   },
   "source": [
    "- **Observations:**\n",
    "\n",
    "    - Surprisingly, most departure delays occur around -10 to 4 minutes, which means flights tend to take off sooner than CRS scheduled. There are upto 1,600,000 flights departing approximately 5 minutes early.\n",
    "\n",
    "    - The number of flights taking off more than 4 minutes late tend to be small, appearing lower than 200,000 cases."
   ]
  },
  {
   "cell_type": "markdown",
   "metadata": {
    "id": "D2BLMlWMvJLW"
   },
   "source": [
    "### Box plot\n",
    "\n",
    "- Plotting DepDelay."
   ]
  },
  {
   "cell_type": "code",
   "execution_count": null,
   "metadata": {
    "colab": {
     "base_uri": "https://localhost:8080/",
     "height": 222
    },
    "id": "K0mJtAKgvkJi",
    "outputId": "26079dc9-636d-478e-bc90-b913d53a90a4"
   },
   "outputs": [
    {
     "data": {
      "image/png": "[encoded data removed]",
      "text/plain": [
       "<Figure size 1440x216 with 1 Axes>"
      ]
     },
     "metadata": {
      "needs_background": "light",
      "tags": []
     },
     "output_type": "display_data"
    }
   ],
   "source": [
    "boxDat = depDelays\n",
    "\n",
    "plt.figure(figsize=(20, 3))\n",
    "plt.boxplot(boxDat, vert=False)\n",
    "plt.yticks([], [])\n",
    "plt.xlabel('Departure Delay (minutes)')\n",
    "plt.show()"
   ]
  },
  {
   "cell_type": "markdown",
   "metadata": {
    "id": "ZpzujGgjxTgg"
   },
   "source": [
    "- **Observations:**\n",
    "\n",
    "    - The box plot agrees with the histogram above, indicating that most departure delays are around -20 to 20 minutes; hence we see a small rectangle around 0.\n",
    "\n",
    "    - Other delay times are outliers. Even though their frequencies are low, their scales are really high. A flight took off more than 500 minutes sooner than CRS planned, while some other over 1500 upto 2500 minutes later."
   ]
  },
  {
   "cell_type": "markdown",
   "metadata": {
    "id": "wRR7aObsyF5K"
   },
   "source": [
    "### Sub plots and Pie chart\n",
    "\n",
    "- Plotting DepDelay counts across months, with the group of positive (late) flights and negative (early) ones separately in two line charts but in the same subplot.\n",
    "\n",
    "- In the second subplot, a stacked bar chart for the delay counts of late and early group across months will be plotted.\n",
    "\n",
    "- Finally, in the last subplot, we will plot the total number of late flights against early ones.\n",
    "\n",
    "- Flights having 0 departure delay are considered early *(just on time)*."
   ]
  },
  {
   "cell_type": "code",
   "execution_count": null,
   "metadata": {
    "colab": {
     "base_uri": "https://localhost:8080/",
     "height": 318
    },
    "id": "Ap3sHVTNyEZB",
    "outputId": "568c1a25-3b1c-4ba6-80d1-5d5c03177a22"
   },
   "outputs": [
    {
     "data": {
      "image/png": "[encoded data removed]",
      "text/plain": [
       "<Figure size 1440x360 with 3 Axes>"
      ]
     },
     "metadata": {
      "needs_background": "light",
      "tags": []
     },
     "output_type": "display_data"
    }
   ],
   "source": [
    "tmp = df[['Month', 'DepDelay']]\n",
    "\n",
    "lateDat = tmp[tmp['DepDelay'] > 0]\n",
    "earlyDat = tmp[tmp['DepDelay'] <= 0]\n",
    "\n",
    "subDatLate = lateDat.groupby('Month').count().reset_index()\n",
    "subDatEarly = earlyDat.groupby('Month').count().reset_index()\n",
    "\n",
    "plt.figure(figsize=(20, 5))\n",
    "COLOR_LATE = 'tab:orange'\n",
    "COLOR_EARLY = 'tab:blue'\n",
    "\n",
    "plt.subplot(1, 3, 1)\n",
    "plt.plot(subDatLate['Month'], subDatLate['DepDelay'], color=COLOR_LATE, label='Late')\n",
    "plt.plot(subDatEarly['Month'], subDatEarly['DepDelay'], color=COLOR_EARLY, label='Early')\n",
    "plt.legend()\n",
    "plt.xlabel('Month')\n",
    "plt.ylabel('Departure Delay Count')\n",
    "plt.xticks(range(1, 13))\n",
    "\n",
    "plt.subplot(1, 3, 2)\n",
    "plt.bar(subDatEarly['Month'], subDatEarly['DepDelay'], color=COLOR_EARLY, label='Early')\n",
    "plt.bar(subDatLate['Month'], subDatLate['DepDelay'], color=COLOR_LATE, bottom=subDatEarly['DepDelay'], label='Late')\n",
    "plt.xlabel('Month')\n",
    "plt.ylabel('Departure Delay Count')\n",
    "plt.xticks(range(1, 13))\n",
    "plt.legend()\n",
    "\n",
    "pieDat = [len(i.index) for i in [lateDat, earlyDat]]\n",
    "\n",
    "plt.subplot(1, 3, 3)\n",
    "plt.pie(pieDat, labels=[f'Late: {pieDat[0]:,} flights', f'Early: {pieDat[1]:,} flights'], autopct='%.2f %%', colors=[COLOR_LATE, COLOR_EARLY])\n",
    "\n",
    "plt.show()\n"
   ]
  },
  {
   "cell_type": "markdown",
   "metadata": {
    "id": "GrYhA_GGC_ZW"
   },
   "source": [
    "- **Observations:**\n",
    "\n",
    "    - As already noticed in the histogram, early flights are more than late ones. Seen in the line chart and bar plot, the number of early flights across months tend to be from 1.5 times to double that of late ones.\n",
    "\n",
    "    - The total number of flights per month are around 500,000 to 600,000.\n",
    "\n",
    "    - In total, the total number of early flights are 1.54 times that of late ones."
   ]
  },
  {
   "cell_type": "markdown",
   "metadata": {
    "id": "YGjbflhla4TZ"
   },
   "source": [
    "### Heat map\n",
    "\n",
    "- Plotting the sums of departure delay times exceeding 30 minutes as a 2D heatmap accross months and days of week."
   ]
  },
  {
   "cell_type": "code",
   "execution_count": null,
   "metadata": {
    "colab": {
     "base_uri": "https://localhost:8080/",
     "height": 345
    },
    "id": "dBXXCVsqbPLZ",
    "outputId": "2ab3d975-177c-485c-919d-48540977d72d"
   },
   "outputs": [
    {
     "data": {
      "image/png": "[encoded data removed]",
      "text/plain": [
       "<Figure size 720x360 with 2 Axes>"
      ]
     },
     "metadata": {
      "needs_background": "light",
      "tags": []
     },
     "output_type": "display_data"
    }
   ],
   "source": [
    "DELAY_THRESHOLD = 30\n",
    "\n",
    "heatDat = df[['Month', 'DayOfWeek', 'DepDelay']]\n",
    "heatDat = heatDat[heatDat['DepDelay'] > DELAY_THRESHOLD]\n",
    "heatDat = heatDat.groupby(['Month', 'DayOfWeek']).sum().unstack(level=0)\n",
    "\n",
    "plt.figure(figsize=(10, 5))\n",
    "sns.heatmap(heatDat, cmap='vlag', xticklabels=range(1, 13))\n",
    "plt.xlabel('Month')\n",
    "plt.show()"
   ]
  },
  {
   "cell_type": "markdown",
   "metadata": {
    "id": "opPovII3kcvv"
   },
   "source": [
    "- **Observations:**\n",
    "\n",
    "    - The total amount of departure delays are really high during February's Thursdays, June's and July's Saturdays, and remain comparatively high throughout the entire December, when people take more flights due to Chirtmas and New Year celebrations\n",
    "\n",
    "    - The end, from Saturday to Sunday, and start, from Monday to Wednesday, of the first three months also have fairly high total departure delay times. This is the same across June and July.\n",
    "\n",
    "    - Regardless of days of week, September, October, and November turn out to almost always have low departure delay sums."
   ]
  },
  {
   "cell_type": "markdown",
   "metadata": {
    "id": "qaddSI_wE_dx"
   },
   "source": [
    "## Analysis Tests"
   ]
  },
  {
   "cell_type": "markdown",
   "metadata": {
    "id": "LWFr5PnBEJWU"
   },
   "source": [
    "### t-test\n",
    "\n",
    "- In this section, I will compute t-score and their corresponding p-value of each pair of features.\n",
    "\n",
    "- Null hypothesis $H_0$: The difference between means of two features are 0."
   ]
  },
  {
   "cell_type": "markdown",
   "metadata": {
    "id": "TyifzHllLSz_"
   },
   "source": [
    "- We first change categorical data, eg. string ones, to numerical data. For example, orgin 'IAD' to dest 'TPA' will be coded as 135 to 286.\n",
    "\n",
    "- This is necessary to work with tests and models that only work with numbers."
   ]
  },
  {
   "cell_type": "code",
   "execution_count": 4,
   "metadata": {
    "colab": {
     "base_uri": "https://localhost:8080/",
     "height": 215
    },
    "id": "_jYnB_6PJ300",
    "outputId": "0760ca59-62e0-433d-b533-65a24f275a33"
   },
   "outputs": [
    {
     "data": {
      "text/html": [
       "<div>\n",
       "<style scoped>\n",
       "    .dataframe tbody tr th:only-of-type {\n",
       "        vertical-align: middle;\n",
       "    }\n",
       "\n",
       "    .dataframe tbody tr th {\n",
       "        vertical-align: top;\n",
       "    }\n",
       "\n",
       "    .dataframe thead th {\n",
       "        text-align: right;\n",
       "    }\n",
       "</style>\n",
       "<table border=\"1\" class=\"dataframe\">\n",
       "  <thead>\n",
       "    <tr style=\"text-align: right;\">\n",
       "      <th></th>\n",
       "      <th>Year</th>\n",
       "      <th>Month</th>\n",
       "      <th>DayofMonth</th>\n",
       "      <th>DayOfWeek</th>\n",
       "      <th>DepTime</th>\n",
       "      <th>CRSDepTime</th>\n",
       "      <th>UniqueCarrier</th>\n",
       "      <th>FlightNum</th>\n",
       "      <th>TailNum</th>\n",
       "      <th>DepDelay</th>\n",
       "      <th>Origin</th>\n",
       "      <th>Dest</th>\n",
       "      <th>Distance</th>\n",
       "      <th>TaxiOut</th>\n",
       "      <th>Diverted</th>\n",
       "      <th>CarrierDelay</th>\n",
       "      <th>WeatherDelay</th>\n",
       "      <th>NASDelay</th>\n",
       "      <th>SecurityDelay</th>\n",
       "      <th>LateAircraftDelay</th>\n",
       "    </tr>\n",
       "  </thead>\n",
       "  <tbody>\n",
       "    <tr>\n",
       "      <th>0</th>\n",
       "      <td>2008</td>\n",
       "      <td>1</td>\n",
       "      <td>3</td>\n",
       "      <td>4</td>\n",
       "      <td>2003.0</td>\n",
       "      <td>1955</td>\n",
       "      <td>17</td>\n",
       "      <td>335</td>\n",
       "      <td>3765</td>\n",
       "      <td>8.0</td>\n",
       "      <td>135</td>\n",
       "      <td>286</td>\n",
       "      <td>810</td>\n",
       "      <td>8.0</td>\n",
       "      <td>0</td>\n",
       "      <td>0.0</td>\n",
       "      <td>0.0</td>\n",
       "      <td>0.0</td>\n",
       "      <td>0.0</td>\n",
       "      <td>0.0</td>\n",
       "    </tr>\n",
       "    <tr>\n",
       "      <th>1</th>\n",
       "      <td>2008</td>\n",
       "      <td>1</td>\n",
       "      <td>3</td>\n",
       "      <td>4</td>\n",
       "      <td>754.0</td>\n",
       "      <td>735</td>\n",
       "      <td>17</td>\n",
       "      <td>3231</td>\n",
       "      <td>4125</td>\n",
       "      <td>19.0</td>\n",
       "      <td>135</td>\n",
       "      <td>286</td>\n",
       "      <td>810</td>\n",
       "      <td>10.0</td>\n",
       "      <td>0</td>\n",
       "      <td>0.0</td>\n",
       "      <td>0.0</td>\n",
       "      <td>0.0</td>\n",
       "      <td>0.0</td>\n",
       "      <td>0.0</td>\n",
       "    </tr>\n",
       "    <tr>\n",
       "      <th>2</th>\n",
       "      <td>2008</td>\n",
       "      <td>1</td>\n",
       "      <td>3</td>\n",
       "      <td>4</td>\n",
       "      <td>628.0</td>\n",
       "      <td>620</td>\n",
       "      <td>17</td>\n",
       "      <td>448</td>\n",
       "      <td>1957</td>\n",
       "      <td>8.0</td>\n",
       "      <td>140</td>\n",
       "      <td>48</td>\n",
       "      <td>515</td>\n",
       "      <td>17.0</td>\n",
       "      <td>0</td>\n",
       "      <td>0.0</td>\n",
       "      <td>0.0</td>\n",
       "      <td>0.0</td>\n",
       "      <td>0.0</td>\n",
       "      <td>0.0</td>\n",
       "    </tr>\n",
       "    <tr>\n",
       "      <th>3</th>\n",
       "      <td>2008</td>\n",
       "      <td>1</td>\n",
       "      <td>3</td>\n",
       "      <td>4</td>\n",
       "      <td>926.0</td>\n",
       "      <td>930</td>\n",
       "      <td>17</td>\n",
       "      <td>1746</td>\n",
       "      <td>3055</td>\n",
       "      <td>-4.0</td>\n",
       "      <td>140</td>\n",
       "      <td>48</td>\n",
       "      <td>515</td>\n",
       "      <td>7.0</td>\n",
       "      <td>0</td>\n",
       "      <td>0.0</td>\n",
       "      <td>0.0</td>\n",
       "      <td>0.0</td>\n",
       "      <td>0.0</td>\n",
       "      <td>0.0</td>\n",
       "    </tr>\n",
       "    <tr>\n",
       "      <th>4</th>\n",
       "      <td>2008</td>\n",
       "      <td>1</td>\n",
       "      <td>3</td>\n",
       "      <td>4</td>\n",
       "      <td>1829.0</td>\n",
       "      <td>1755</td>\n",
       "      <td>17</td>\n",
       "      <td>3920</td>\n",
       "      <td>2138</td>\n",
       "      <td>34.0</td>\n",
       "      <td>140</td>\n",
       "      <td>48</td>\n",
       "      <td>515</td>\n",
       "      <td>10.0</td>\n",
       "      <td>0</td>\n",
       "      <td>2.0</td>\n",
       "      <td>0.0</td>\n",
       "      <td>0.0</td>\n",
       "      <td>0.0</td>\n",
       "      <td>32.0</td>\n",
       "    </tr>\n",
       "  </tbody>\n",
       "</table>\n",
       "</div>"
      ],
      "text/plain": [
       "   Year  Month  DayofMonth  DayOfWeek  DepTime  CRSDepTime  UniqueCarrier  \\\n",
       "0  2008      1           3          4   2003.0        1955             17   \n",
       "1  2008      1           3          4    754.0         735             17   \n",
       "2  2008      1           3          4    628.0         620             17   \n",
       "3  2008      1           3          4    926.0         930             17   \n",
       "4  2008      1           3          4   1829.0        1755             17   \n",
       "\n",
       "   FlightNum  TailNum  DepDelay  Origin  Dest  Distance  TaxiOut  Diverted  \\\n",
       "0        335     3765       8.0     135   286       810      8.0         0   \n",
       "1       3231     4125      19.0     135   286       810     10.0         0   \n",
       "2        448     1957       8.0     140    48       515     17.0         0   \n",
       "3       1746     3055      -4.0     140    48       515      7.0         0   \n",
       "4       3920     2138      34.0     140    48       515     10.0         0   \n",
       "\n",
       "   CarrierDelay  WeatherDelay  NASDelay  SecurityDelay  LateAircraftDelay  \n",
       "0           0.0           0.0       0.0            0.0                0.0  \n",
       "1           0.0           0.0       0.0            0.0                0.0  \n",
       "2           0.0           0.0       0.0            0.0                0.0  \n",
       "3           0.0           0.0       0.0            0.0                0.0  \n",
       "4           2.0           0.0       0.0            0.0               32.0  "
      ]
     },
     "execution_count": 4,
     "metadata": {},
     "output_type": "execute_result"
    }
   ],
   "source": [
    "catFeatures = ['UniqueCarrier', 'TailNum', 'Origin', 'Dest']\n",
    "\n",
    "for f in catFeatures:\n",
    "    df[f] = df[f].astype('category').cat.codes\n",
    "\n",
    "df.head()"
   ]
  },
  {
   "cell_type": "markdown",
   "metadata": {
    "id": "8VFMwLSSM4PM"
   },
   "source": [
    "- In this demo project, we agreed to work on the data of one year. Hence, we can obmit the column Year. In general work, this should not be done."
   ]
  },
  {
   "cell_type": "code",
   "execution_count": 5,
   "metadata": {
    "id": "rRd3ss8sNQxN"
   },
   "outputs": [],
   "source": [
    "df.drop(columns=['Year'], inplace=True)"
   ]
  },
  {
   "cell_type": "code",
   "execution_count": null,
   "metadata": {
    "id": "Lw2_t9d14qyB"
   },
   "outputs": [],
   "source": [
    "T = pd.DataFrame(index=df.columns, columns=df.columns)\n",
    "\n",
    "for f1 in df.columns:\n",
    "    for f2 in df.columns:\n",
    "        if f1 == f2:\n",
    "            T[f1][f2] = None\n",
    "        else: \n",
    "            t, p = stats.ttest_ind(df[f1], df[f2])\n",
    "            T[f1][f2] = (t, p)"
   ]
  },
  {
   "cell_type": "code",
   "execution_count": null,
   "metadata": {
    "colab": {
     "base_uri": "https://localhost:8080/"
    },
    "id": "Doxn5h9z7UYr",
    "outputId": "b45b3228-2b2b-4c36-92fa-f1a0d9313f91"
   },
   "outputs": [
    {
     "name": "stdout",
     "output_type": "stream",
     "text": [
      "t-score and p-value of each feature pair:\n",
      "                                        Month                  DayofMonth  \\\n",
      "Month                                    None    (2597.954842826596, 0.0)   \n",
      "DayofMonth          (-2597.954842826596, 0.0)                        None   \n",
      "DayOfWeek           (1640.0866444030037, 0.0)    (3432.441951017938, 0.0)   \n",
      "DepTime             (-7279.506705725513, 0.0)   (-7227.195802791907, 0.0)   \n",
      "CRSDepTime          (-7445.740833138658, 0.0)   (-7391.821151585713, 0.0)   \n",
      "UniqueCarrier      (-1822.4115703381224, 0.0)    (1145.407697684248, 0.0)   \n",
      "FlightNum          (-2956.2738322814357, 0.0)  (-2943.7215523999184, 0.0)   \n",
      "TailNum             (-4565.203427394674, 0.0)   (-4549.494191933697, 0.0)   \n",
      "DepDelay           (-264.79176812518216, 0.0)    (415.4105977748728, 0.0)   \n",
      "Origin              (-4599.070609982437, 0.0)  (-4275.2194038149455, 0.0)   \n",
      "Dest                (-4606.890877530713, 0.0)   (-4284.685290421757, 0.0)   \n",
      "Distance            (-3362.579677185898, 0.0)   (-3318.746617267127, 0.0)   \n",
      "TaxiOut            (-2229.3305820654546, 0.0)  (-130.14908992323743, 0.0)   \n",
      "Diverted             (4925.311357288919, 0.0)    (4687.653934420953, 0.0)   \n",
      "CarrierDelay        (373.78075007353675, 0.0)   (1469.1803555238218, 0.0)   \n",
      "WeatherDelay        (1517.3486285183055, 0.0)   (3089.4910297319425, 0.0)   \n",
      "NASDelay            (398.84390555432213, 0.0)   (1662.5822294645627, 0.0)   \n",
      "SecurityDelay       (4762.7765970994615, 0.0)    (4661.002526335367, 0.0)   \n",
      "LateAircraftDelay   (225.85323027789497, 0.0)   (1313.2168987573602, 0.0)   \n",
      "\n",
      "                                                      DayOfWeek  \\\n",
      "Month                                (-1640.0866444030037, 0.0)   \n",
      "DayofMonth                            (-3432.441951017938, 0.0)   \n",
      "DayOfWeek                                                  None   \n",
      "DepTime                                (-7293.13885669793, 0.0)   \n",
      "CRSDepTime                            (-7459.784025055401, 0.0)   \n",
      "UniqueCarrier                        (-3033.8489637669936, 0.0)   \n",
      "FlightNum                             (-2959.577974688112, 0.0)   \n",
      "TailNum                               (-4569.334233198047, 0.0)   \n",
      "DepDelay                             (-448.23000900005565, 0.0)   \n",
      "Origin                                (-4681.486590932115, 0.0)   \n",
      "Dest                                  (-4688.893586804857, 0.0)   \n",
      "Distance                             (-3374.0805899247584, 0.0)   \n",
      "TaxiOut                               (-2853.792236920233, 0.0)   \n",
      "Diverted                               (5171.177132779738, 0.0)   \n",
      "CarrierDelay                             (55.757020178289, 0.0)   \n",
      "WeatherDelay                           (899.0313771808487, 0.0)   \n",
      "NASDelay           (18.524869920542745, 1.3039782876395467e-76)   \n",
      "SecurityDelay                          (4725.337940287766, 0.0)   \n",
      "LateAircraftDelay                     (-87.16782323679223, 0.0)   \n",
      "\n",
      "                                                       DepTime  \\\n",
      "Month                                 (7279.506705725513, 0.0)   \n",
      "DayofMonth                            (7227.195802791907, 0.0)   \n",
      "DayOfWeek                              (7293.13885669793, 0.0)   \n",
      "DepTime                                                   None   \n",
      "CRSDepTime         (34.63534446912264, 7.622091837826894e-263)   \n",
      "UniqueCarrier                         (7253.235957069519, 0.0)   \n",
      "FlightNum                           (-1143.9705002752878, 0.0)   \n",
      "TailNum                              (-2241.320499122098, 0.0)   \n",
      "DepDelay                               (7240.31876768802, 0.0)   \n",
      "Origin                                 (6408.81726807597, 0.0)   \n",
      "Dest                                  (6402.830867009651, 0.0)   \n",
      "Distance                              (2144.653481260013, 0.0)   \n",
      "TaxiOut                              (7222.4845880246585, 0.0)   \n",
      "Diverted                              (7314.718008383804, 0.0)   \n",
      "CarrierDelay                          (7289.175052977157, 0.0)   \n",
      "WeatherDelay                          (7309.660171983859, 0.0)   \n",
      "NASDelay                              (7289.442494302512, 0.0)   \n",
      "SecurityDelay                         (7314.628609681357, 0.0)   \n",
      "LateAircraftDelay                     (7282.832644432919, 0.0)   \n",
      "\n",
      "                                                     CRSDepTime  \\\n",
      "Month                                  (7445.740833138658, 0.0)   \n",
      "DayofMonth                             (7391.821151585713, 0.0)   \n",
      "DayOfWeek                              (7459.784025055401, 0.0)   \n",
      "DepTime            (-34.63534446912264, 7.622091837826894e-263)   \n",
      "CRSDepTime                                                 None   \n",
      "UniqueCarrier                          (7418.670732892045, 0.0)   \n",
      "FlightNum                             (-1157.282853891839, 0.0)   \n",
      "TailNum                               (-2260.892116609399, 0.0)   \n",
      "DepDelay                                (7404.32599063808, 0.0)   \n",
      "Origin                                 (6544.437329811622, 0.0)   \n",
      "Dest                                   (6538.232534233279, 0.0)   \n",
      "Distance                              (2138.9907994313867, 0.0)   \n",
      "TaxiOut                               (7386.9261887512785, 0.0)   \n",
      "Diverted                               (7482.006809039476, 0.0)   \n",
      "CarrierDelay                            (7455.35771759294, 0.0)   \n",
      "WeatherDelay                           (7476.723634614093, 0.0)   \n",
      "NASDelay                               (7455.740257995893, 0.0)   \n",
      "SecurityDelay                         (7481.9141024928185, 0.0)   \n",
      "LateAircraftDelay                       (7448.81293167896, 0.0)   \n",
      "\n",
      "                                UniqueCarrier                  FlightNum  \\\n",
      "Month               (1822.4115703381224, 0.0)  (2956.2738322814357, 0.0)   \n",
      "DayofMonth          (-1145.407697684248, 0.0)  (2943.7215523999184, 0.0)   \n",
      "DayOfWeek           (3033.8489637669936, 0.0)   (2959.577974688112, 0.0)   \n",
      "DepTime             (-7253.235957069519, 0.0)  (1143.9705002752878, 0.0)   \n",
      "CRSDepTime          (-7418.670732892045, 0.0)   (1157.282853891839, 0.0)   \n",
      "UniqueCarrier                            None   (2949.935457069329, 0.0)   \n",
      "FlightNum           (-2949.935457069329, 0.0)                       None   \n",
      "TailNum            (-4557.2754706140295, 0.0)  (-545.1770004935642, 0.0)   \n",
      "DepDelay             (83.55715313236915, 0.0)   (2950.997020490364, 0.0)   \n",
      "Origin              (-4438.460765933952, 0.0)   (2763.430916694147, 0.0)   \n",
      "Dest                (-4447.091836180458, 0.0)   (2762.144139757936, 0.0)   \n",
      "Distance           (-3340.4847888288723, 0.0)   (1910.028193469304, 0.0)   \n",
      "TaxiOut            (-1095.8289661784875, 0.0)  (2942.7474923780305, 0.0)   \n",
      "Diverted             (4950.296094622745, 0.0)  (2964.8365599088315, 0.0)   \n",
      "CarrierDelay         (958.0224970356523, 0.0)  (2959.9974909302173, 0.0)   \n",
      "WeatherDelay        (2492.2894117931996, 0.0)  (2963.9033535015624, 0.0)   \n",
      "NASDelay            (1085.8727054447488, 0.0)   (2959.631179883688, 0.0)   \n",
      "SecurityDelay         (4891.46977805479, 0.0)   (2964.817351260033, 0.0)   \n",
      "LateAircraftDelay    (803.1625854551925, 0.0)   (2958.505259980298, 0.0)   \n",
      "\n",
      "                                     TailNum                    DepDelay  \\\n",
      "Month               (4565.203427394674, 0.0)   (264.79176812518216, 0.0)   \n",
      "DayofMonth          (4549.494191933697, 0.0)   (-415.4105977748728, 0.0)   \n",
      "DayOfWeek           (4569.334233198047, 0.0)   (448.23000900005565, 0.0)   \n",
      "DepTime             (2241.320499122098, 0.0)    (-7240.31876768802, 0.0)   \n",
      "CRSDepTime          (2260.892116609399, 0.0)    (-7404.32599063808, 0.0)   \n",
      "UniqueCarrier      (4557.2754706140295, 0.0)   (-83.55715313236915, 0.0)   \n",
      "FlightNum           (545.1770004935642, 0.0)   (-2950.997020490364, 0.0)   \n",
      "TailNum                                 None   (-4558.059197260283, 0.0)   \n",
      "DepDelay            (4558.059197260283, 0.0)                        None   \n",
      "Origin              (4321.501635855955, 0.0)   (-4112.988895658967, 0.0)   \n",
      "Dest                (4319.867211676462, 0.0)   (-4123.881157773248, 0.0)   \n",
      "Distance           (3157.1363196458933, 0.0)   (-3339.426273992459, 0.0)   \n",
      "TaxiOut            (4548.2546595689955, 0.0)  (-457.99498753310604, 0.0)   \n",
      "Diverted            (4575.904816327374, 0.0)    (740.2395966460119, 0.0)   \n",
      "CarrierDelay       (4569.6808832865145, 0.0)   (418.28287929099025, 0.0)   \n",
      "WeatherDelay        (4574.700516213462, 0.0)    (667.7383865702024, 0.0)   \n",
      "NASDelay            (4569.278498515845, 0.0)   (414.10549920655944, 0.0)   \n",
      "SecurityDelay       (4575.880486021628, 0.0)    (738.9697060849613, 0.0)   \n",
      "LateAircraftDelay   (4567.809394823532, 0.0)   (344.88527774028546, 0.0)   \n",
      "\n",
      "                                                          Origin  \\\n",
      "Month                                   (4599.070609982437, 0.0)   \n",
      "DayofMonth                             (4275.2194038149455, 0.0)   \n",
      "DayOfWeek                               (4681.486590932115, 0.0)   \n",
      "DepTime                                 (-6408.81726807597, 0.0)   \n",
      "CRSDepTime                             (-6544.437329811622, 0.0)   \n",
      "UniqueCarrier                           (4438.460765933952, 0.0)   \n",
      "FlightNum                              (-2763.430916694147, 0.0)   \n",
      "TailNum                                (-4321.501635855955, 0.0)   \n",
      "DepDelay                                (4112.988895658967, 0.0)   \n",
      "Origin                                                      None   \n",
      "Dest               (-21.553790228139793, 4.897797155432137e-103)   \n",
      "Distance                              (-2673.8948090148824, 0.0)   \n",
      "TaxiOut                                  (4236.03797740461, 0.0)   \n",
      "Diverted                                (4809.937304753686, 0.0)   \n",
      "CarrierDelay                            (4559.810386708176, 0.0)   \n",
      "WeatherDelay                           (4757.1014554030435, 0.0)   \n",
      "NASDelay                                (4590.908581133388, 0.0)   \n",
      "SecurityDelay                           (4809.205834072669, 0.0)   \n",
      "LateAircraftDelay                       (4519.510648859978, 0.0)   \n",
      "\n",
      "                                                           Dest  \\\n",
      "Month                                  (4606.890877530713, 0.0)   \n",
      "DayofMonth                             (4284.685290421757, 0.0)   \n",
      "DayOfWeek                              (4688.893586804857, 0.0)   \n",
      "DepTime                               (-6402.830867009651, 0.0)   \n",
      "CRSDepTime                            (-6538.232534233279, 0.0)   \n",
      "UniqueCarrier                          (4447.091836180458, 0.0)   \n",
      "FlightNum                             (-2762.144139757936, 0.0)   \n",
      "TailNum                               (-4319.867211676462, 0.0)   \n",
      "DepDelay                               (4123.881157773248, 0.0)   \n",
      "Origin             (21.553790228139793, 4.897797155432137e-103)   \n",
      "Dest                                                       None   \n",
      "Distance                              (-2669.282343843495, 0.0)   \n",
      "TaxiOut                                (4245.735573339416, 0.0)   \n",
      "Diverted                               (4816.708415552949, 0.0)   \n",
      "CarrierDelay                           (4568.210929604328, 0.0)   \n",
      "WeatherDelay                           (4764.237058247166, 0.0)   \n",
      "NASDelay                               (4599.046806488685, 0.0)   \n",
      "SecurityDelay                          (4815.981497726474, 0.0)   \n",
      "LateAircraftDelay                      (4528.112725890959, 0.0)   \n",
      "\n",
      "                                     Distance                     TaxiOut  \\\n",
      "Month                (3362.579677185898, 0.0)   (2229.3305820654546, 0.0)   \n",
      "DayofMonth           (3318.746617267127, 0.0)   (130.14908992323743, 0.0)   \n",
      "DayOfWeek           (3374.0805899247584, 0.0)    (2853.792236920233, 0.0)   \n",
      "DepTime             (-2144.653481260013, 0.0)  (-7222.4845880246585, 0.0)   \n",
      "CRSDepTime         (-2138.9907994313867, 0.0)  (-7386.9261887512785, 0.0)   \n",
      "UniqueCarrier       (3340.4847888288723, 0.0)   (1095.8289661784875, 0.0)   \n",
      "FlightNum           (-1910.028193469304, 0.0)  (-2942.7474923780305, 0.0)   \n",
      "TailNum            (-3157.1363196458933, 0.0)  (-4548.2546595689955, 0.0)   \n",
      "DepDelay             (3339.426273992459, 0.0)   (457.99498753310604, 0.0)   \n",
      "Origin              (2673.8948090148824, 0.0)    (-4236.03797740461, 0.0)   \n",
      "Dest                 (2669.282343843495, 0.0)   (-4245.735573339416, 0.0)   \n",
      "Distance                                 None  (-3315.1673736015277, 0.0)   \n",
      "TaxiOut             (3315.1673736015277, 0.0)                        None   \n",
      "Diverted            (3392.3524065199776, 0.0)   (3804.9350653327565, 0.0)   \n",
      "CarrierDelay        (3373.9673161036876, 0.0)   (1477.7140131446963, 0.0)   \n",
      "WeatherDelay          (3388.76960392936, 0.0)   (2824.7529308736607, 0.0)   \n",
      "NASDelay            (3373.1841396030454, 0.0)   (1647.1900478996072, 0.0)   \n",
      "SecurityDelay        (3392.282732383259, 0.0)   (3790.6508718659284, 0.0)   \n",
      "LateAircraftDelay   (3368.7234768190797, 0.0)   (1330.2623108030004, 0.0)   \n",
      "\n",
      "                                     Diverted  \\\n",
      "Month               (-4925.311357288919, 0.0)   \n",
      "DayofMonth          (-4687.653934420953, 0.0)   \n",
      "DayOfWeek           (-5171.177132779738, 0.0)   \n",
      "DepTime             (-7314.718008383804, 0.0)   \n",
      "CRSDepTime          (-7482.006809039476, 0.0)   \n",
      "UniqueCarrier       (-4950.296094622745, 0.0)   \n",
      "FlightNum          (-2964.8365599088315, 0.0)   \n",
      "TailNum             (-4575.904816327374, 0.0)   \n",
      "DepDelay            (-740.2395966460119, 0.0)   \n",
      "Origin              (-4809.937304753686, 0.0)   \n",
      "Dest                (-4816.708415552949, 0.0)   \n",
      "Distance           (-3392.3524065199776, 0.0)   \n",
      "TaxiOut            (-3804.9350653327565, 0.0)   \n",
      "Diverted                                 None   \n",
      "CarrierDelay        (-458.5149817867022, 0.0)   \n",
      "WeatherDelay       (-189.90726221374203, 0.0)   \n",
      "NASDelay            (-599.9112672152573, 0.0)   \n",
      "SecurityDelay       (-42.66450332552651, 0.0)   \n",
      "LateAircraftDelay   (-591.6684694332497, 0.0)   \n",
      "\n",
      "                                                    CarrierDelay  \\\n",
      "Month                                 (-373.78075007353675, 0.0)   \n",
      "DayofMonth                            (-1469.1803555238218, 0.0)   \n",
      "DayOfWeek                                (-55.757020178289, 0.0)   \n",
      "DepTime                                (-7289.175052977157, 0.0)   \n",
      "CRSDepTime                              (-7455.35771759294, 0.0)   \n",
      "UniqueCarrier                          (-958.0224970356523, 0.0)   \n",
      "FlightNum                             (-2959.9974909302173, 0.0)   \n",
      "TailNum                               (-4569.6808832865145, 0.0)   \n",
      "DepDelay                              (-418.28287929099025, 0.0)   \n",
      "Origin                                 (-4559.810386708176, 0.0)   \n",
      "Dest                                   (-4568.210929604328, 0.0)   \n",
      "Distance                              (-3373.9673161036876, 0.0)   \n",
      "TaxiOut                               (-1477.7140131446963, 0.0)   \n",
      "Diverted                                (458.5149817867022, 0.0)   \n",
      "CarrierDelay                                                None   \n",
      "WeatherDelay                             (336.046861331526, 0.0)   \n",
      "NASDelay           (-31.145721783019336, 5.896052922979546e-213)   \n",
      "SecurityDelay                           (456.2365645808262, 0.0)   \n",
      "LateAircraftDelay                     (-101.77336364006007, 0.0)   \n",
      "\n",
      "                                 WeatherDelay  \\\n",
      "Month              (-1517.3486285183055, 0.0)   \n",
      "DayofMonth         (-3089.4910297319425, 0.0)   \n",
      "DayOfWeek           (-899.0313771808487, 0.0)   \n",
      "DepTime             (-7309.660171983859, 0.0)   \n",
      "CRSDepTime          (-7476.723634614093, 0.0)   \n",
      "UniqueCarrier      (-2492.2894117931996, 0.0)   \n",
      "FlightNum          (-2963.9033535015624, 0.0)   \n",
      "TailNum             (-4574.700516213462, 0.0)   \n",
      "DepDelay            (-667.7383865702024, 0.0)   \n",
      "Origin             (-4757.1014554030435, 0.0)   \n",
      "Dest                (-4764.237058247166, 0.0)   \n",
      "Distance             (-3388.76960392936, 0.0)   \n",
      "TaxiOut            (-2824.7529308736607, 0.0)   \n",
      "Diverted            (189.90726221374203, 0.0)   \n",
      "CarrierDelay         (-336.046861331526, 0.0)   \n",
      "WeatherDelay                             None   \n",
      "NASDelay            (-431.4832016301251, 0.0)   \n",
      "SecurityDelay        (185.1115379050205, 0.0)   \n",
      "LateAircraftDelay   (-460.1063972272466, 0.0)   \n",
      "\n",
      "                                                        NASDelay  \\\n",
      "Month                                 (-398.84390555432213, 0.0)   \n",
      "DayofMonth                            (-1662.5822294645627, 0.0)   \n",
      "DayOfWeek          (-18.524869920542745, 1.3039782876395467e-76)   \n",
      "DepTime                                (-7289.442494302512, 0.0)   \n",
      "CRSDepTime                             (-7455.740257995893, 0.0)   \n",
      "UniqueCarrier                         (-1085.8727054447488, 0.0)   \n",
      "FlightNum                              (-2959.631179883688, 0.0)   \n",
      "TailNum                                (-4569.278498515845, 0.0)   \n",
      "DepDelay                              (-414.10549920655944, 0.0)   \n",
      "Origin                                 (-4590.908581133388, 0.0)   \n",
      "Dest                                   (-4599.046806488685, 0.0)   \n",
      "Distance                              (-3373.1841396030454, 0.0)   \n",
      "TaxiOut                               (-1647.1900478996072, 0.0)   \n",
      "Diverted                                (599.9112672152573, 0.0)   \n",
      "CarrierDelay        (31.145721783019336, 5.896052922979546e-213)   \n",
      "WeatherDelay                            (431.4832016301251, 0.0)   \n",
      "NASDelay                                                    None   \n",
      "SecurityDelay                           (596.8786386920564, 0.0)   \n",
      "LateAircraftDelay                      (-79.67794650184821, 0.0)   \n",
      "\n",
      "                                SecurityDelay           LateAircraftDelay  \n",
      "Month              (-4762.7765970994615, 0.0)  (-225.85323027789497, 0.0)  \n",
      "DayofMonth          (-4661.002526335367, 0.0)  (-1313.2168987573602, 0.0)  \n",
      "DayOfWeek           (-4725.337940287766, 0.0)    (87.16782323679223, 0.0)  \n",
      "DepTime             (-7314.628609681357, 0.0)   (-7282.832644432919, 0.0)  \n",
      "CRSDepTime         (-7481.9141024928185, 0.0)    (-7448.81293167896, 0.0)  \n",
      "UniqueCarrier        (-4891.46977805479, 0.0)   (-803.1625854551925, 0.0)  \n",
      "FlightNum           (-2964.817351260033, 0.0)   (-2958.505259980298, 0.0)  \n",
      "TailNum             (-4575.880486021628, 0.0)   (-4567.809394823532, 0.0)  \n",
      "DepDelay            (-738.9697060849613, 0.0)  (-344.88527774028546, 0.0)  \n",
      "Origin              (-4809.205834072669, 0.0)   (-4519.510648859978, 0.0)  \n",
      "Dest                (-4815.981497726474, 0.0)   (-4528.112725890959, 0.0)  \n",
      "Distance            (-3392.282732383259, 0.0)  (-3368.7234768190797, 0.0)  \n",
      "TaxiOut            (-3790.6508718659284, 0.0)  (-1330.2623108030004, 0.0)  \n",
      "Diverted             (42.66450332552651, 0.0)    (591.6684694332497, 0.0)  \n",
      "CarrierDelay        (-456.2365645808262, 0.0)   (101.77336364006007, 0.0)  \n",
      "WeatherDelay        (-185.1115379050205, 0.0)    (460.1063972272466, 0.0)  \n",
      "NASDelay            (-596.8786386920564, 0.0)    (79.67794650184821, 0.0)  \n",
      "SecurityDelay                            None    (589.3253967035388, 0.0)  \n",
      "LateAircraftDelay   (-589.3253967035388, 0.0)                        None  \n"
     ]
    }
   ],
   "source": [
    "pd.set_option('max_column', 100)\n",
    "pd.set_option('max_row', 100)\n",
    "\n",
    "print('t-score and p-value of each feature pair:')\n",
    "print(T)"
   ]
  },
  {
   "cell_type": "code",
   "execution_count": null,
   "metadata": {
    "colab": {
     "base_uri": "https://localhost:8080/"
    },
    "id": "5_8IwvlE_DTk",
    "outputId": "d0dcdad6-505b-4d84-e2e7-f5d6645b5a39"
   },
   "outputs": [
    {
     "name": "stdout",
     "output_type": "stream",
     "text": [
      "Number of feature pairs having p-value of t-score > 0.001: 0\n"
     ]
    }
   ],
   "source": [
    "P_THRESHOLD = 0.001\n",
    "\n",
    "count = 0\n",
    "for c in T.columns:\n",
    "    for i in T.index:\n",
    "        val = T[c][i]\n",
    "        if val is not None:\n",
    "            t, p = T[c][i]\n",
    "            if p > P_THRESHOLD:\n",
    "                count += 1\n",
    "\n",
    "print(f'Number of feature pairs having p-value of t-score > {P_THRESHOLD}: {count}')"
   ]
  },
  {
   "cell_type": "markdown",
   "metadata": {
    "id": "s165UrSRbVg3"
   },
   "source": [
    "- **Comments:**\n",
    "    \n",
    "    - All t-scores have high absolute values, meaning each feature is significantly different than each of the others. We can confidently reject the Null hypothesis.\n",
    "    \n",
    "    - A negative t-score just means a reversed directional effect.\n",
    "\n",
    "    - All p-values are close to 0 meaning the t-test results are reliable.\n",
    "\n",
    "    - In conclusion, we can confirm that all of our features are pairwise independent within t-test criteria."
   ]
  },
  {
   "cell_type": "markdown",
   "metadata": {
    "id": "v6O2pRS7dH-R"
   },
   "source": [
    "### Mann Whitney U-test\n",
    "\n",
    "- We will compute U-score and their corresponding p-value of each pair of features.\n",
    "\n",
    "- Null hypothesis $H_0$: The distributions of two features are identical such that there is a 50% probability that for two randomly selected samples, each from one feature, one sample will be greater than the other.\n",
    "\n",
    "- We continue to use the dataset that all categorical values are already coded to numeric that we obtained before carrying out t-test."
   ]
  },
  {
   "cell_type": "code",
   "execution_count": null,
   "metadata": {
    "id": "CkQq9_6mBwRc"
   },
   "outputs": [],
   "source": [
    "U = pd.DataFrame(index=df.columns, columns=df.columns)\n",
    "\n",
    "for f1 in df.columns:\n",
    "    for f2 in df.columns:\n",
    "        if f1 == f2:\n",
    "            U[f1][f2] = None\n",
    "        else: \n",
    "            u, p = stats.mannwhitneyu(df[f1], df[f2])\n",
    "            U[f1][f2] = (u, p)"
   ]
  },
  {
   "cell_type": "code",
   "execution_count": null,
   "metadata": {
    "colab": {
     "base_uri": "https://localhost:8080/"
    },
    "id": "C8OK-1kACGPi",
    "outputId": "d8644884-7811-468a-b365-09524af1369f"
   },
   "outputs": [
    {
     "name": "stdout",
     "output_type": "stream",
     "text": [
      "                                     Month               DayofMonth  \\\n",
      "Month                                 None   (9132651399534.5, 0.0)   \n",
      "DayofMonth          (9132651399534.5, 0.0)                     None   \n",
      "DayOfWeek          (13744773678339.0, 0.0)   (5317515877365.5, 0.0)   \n",
      "DepTime               (17736227282.5, 0.0)     (40647767010.0, 0.0)   \n",
      "CRSDepTime             (2092715505.5, 0.0)      (7812484979.0, 0.0)   \n",
      "UniqueCarrier      (12386690073944.0, 0.0)  (16483205648887.5, 0.0)   \n",
      "FlightNum            (145641852477.5, 0.0)    (360649180888.5, 0.0)   \n",
      "TailNum               (88966624407.0, 0.0)    (188494096787.0, 0.0)   \n",
      "DepDelay           (13184854676862.0, 0.0)   (9617461388667.5, 0.0)   \n",
      "Origin               (330420504623.5, 0.0)   (1960829192787.5, 0.0)   \n",
      "Dest                 (330941484219.5, 0.0)   (1959527827116.0, 0.0)   \n",
      "Distance                  (1574917.0, 0.0)        (61088517.0, 0.0)   \n",
      "TaxiOut             (4945181485191.0, 0.0)  (23044021652742.5, 0.0)   \n",
      "Diverted               (5079855052.5, 0.0)      (1942588740.0, 0.0)   \n",
      "CarrierDelay        (3788235565911.5, 0.0)   (2796771332732.0, 0.0)   \n",
      "WeatherDelay         (597556583140.0, 0.0)    (468201875233.5, 0.0)   \n",
      "NASDelay            (5188735470103.0, 0.0)   (3662175729712.5, 0.0)   \n",
      "SecurityDelay         (32390002863.0, 0.0)     (19757916292.5, 0.0)   \n",
      "LateAircraftDelay   (4431162774894.0, 0.0)   (3587020595962.0, 0.0)   \n",
      "\n",
      "                                 DayOfWeek                  DepTime  \\\n",
      "Month              (13744773678339.0, 0.0)     (17736227282.5, 0.0)   \n",
      "DayofMonth          (5317515877365.5, 0.0)     (40647767010.0, 0.0)   \n",
      "DayOfWeek                             None     (10948624428.5, 0.0)   \n",
      "DepTime               (10948624428.5, 0.0)                     None   \n",
      "CRSDepTime             (1345447196.0, 0.0)  (23312518296783.0, 0.0)   \n",
      "UniqueCarrier       (8250432618476.5, 0.0)     (29629967677.5, 0.0)   \n",
      "FlightNum             (87256214261.5, 0.0)  (20727896072460.0, 0.0)   \n",
      "TailNum               (57126927281.5, 0.0)  (11144318274982.5, 0.0)   \n",
      "DepDelay           (14782986316461.0, 0.0)     (23663675961.5, 0.0)   \n",
      "Origin               (282714271542.5, 0.0)    (152750306046.5, 0.0)   \n",
      "Dest                 (283102823231.0, 0.0)    (152951677983.5, 0.0)   \n",
      "Distance                        (0.0, 0.0)   (8557770494243.0, 0.0)   \n",
      "TaxiOut              (631013210224.5, 0.0)     (42169026029.0, 0.0)   \n",
      "Diverted               (8769178372.5, 0.0)         (4885995.0, 0.0)   \n",
      "CarrierDelay        (4123305479941.0, 0.0)      (7142459071.5, 0.0)   \n",
      "WeatherDelay         (638337887202.0, 0.0)      (1229868007.5, 0.0)   \n",
      "NASDelay            (5631863144749.0, 0.0)      (7797006463.0, 0.0)   \n",
      "SecurityDelay         (37117247229.0, 0.0)        (38906038.0, 0.0)   \n",
      "LateAircraftDelay   (4606381945459.5, 0.0)      (8460057293.5, 0.0)   \n",
      "\n",
      "                                CRSDepTime            UniqueCarrier  \\\n",
      "Month                  (2092715505.5, 0.0)  (12386690073944.0, 0.0)   \n",
      "DayofMonth             (7812484979.0, 0.0)  (16483205648887.5, 0.0)   \n",
      "DayOfWeek              (1345447196.0, 0.0)   (8250432618476.5, 0.0)   \n",
      "DepTime            (23312518296783.0, 0.0)     (29629967677.5, 0.0)   \n",
      "CRSDepTime                            None      (4828286279.5, 0.0)   \n",
      "UniqueCarrier          (4828286279.5, 0.0)                     None   \n",
      "FlightNum          (20667425479396.5, 0.0)    (250556485339.5, 0.0)   \n",
      "TailNum            (11056121935772.5, 0.0)    (143042125707.0, 0.0)   \n",
      "DepDelay               (8958068617.5, 0.0)  (11168916360671.0, 0.0)   \n",
      "Origin                (67162082066.0, 0.0)    (638541817313.5, 0.0)   \n",
      "Dest                  (67246768419.5, 0.0)    (638814653860.0, 0.0)   \n",
      "Distance            (8521705313973.5, 0.0)         (8026120.0, 0.0)   \n",
      "TaxiOut                (8536899586.5, 0.0)  (17496875701246.5, 0.0)   \n",
      "Diverted                  (8220152.0, 0.0)    (884410439413.0, 0.0)   \n",
      "CarrierDelay           (2947391865.0, 0.0)   (4025911280706.5, 0.0)   \n",
      "WeatherDelay            (517255820.5, 0.0)   (1388871501871.5, 0.0)   \n",
      "NASDelay               (2458476637.5, 0.0)   (5160809468575.5, 0.0)   \n",
      "SecurityDelay            (16858250.5, 0.0)    (900986727010.5, 0.0)   \n",
      "LateAircraftDelay      (3114190091.5, 0.0)   (4799279999500.5, 0.0)   \n",
      "\n",
      "                                 FlightNum                  TailNum  \\\n",
      "Month                (145641852477.5, 0.0)     (88966624407.0, 0.0)   \n",
      "DayofMonth           (360649180888.5, 0.0)    (188494096787.0, 0.0)   \n",
      "DayOfWeek             (87256214261.5, 0.0)     (57126927281.5, 0.0)   \n",
      "DepTime            (20727896072460.0, 0.0)  (11144318274982.5, 0.0)   \n",
      "CRSDepTime         (20667425479396.5, 0.0)  (11056121935772.5, 0.0)   \n",
      "UniqueCarrier        (250556485339.5, 0.0)    (143042125707.0, 0.0)   \n",
      "FlightNum                             None  (18308772659947.0, 0.0)   \n",
      "TailNum            (18308772659947.0, 0.0)                     None   \n",
      "DepDelay             (273495561750.0, 0.0)    (144927096641.0, 0.0)   \n",
      "Origin              (3054058377910.0, 0.0)   (1490827196375.5, 0.0)   \n",
      "Dest                (3071848511427.0, 0.0)   (1497663927773.5, 0.0)   \n",
      "Distance           (12294634264216.5, 0.0)   (6108373579392.5, 0.0)   \n",
      "TaxiOut              (376123866790.0, 0.0)    (203471093432.5, 0.0)   \n",
      "Diverted                 (34581795.0, 0.0)      (6524375624.0, 0.0)   \n",
      "CarrierDelay          (76850309018.0, 0.0)     (45935032988.0, 0.0)   \n",
      "WeatherDelay          (14671315784.5, 0.0)     (14013802423.0, 0.0)   \n",
      "NASDelay              (84948546560.5, 0.0)     (50278940311.0, 0.0)   \n",
      "SecurityDelay           (377218458.0, 0.0)      (6688422451.0, 0.0)   \n",
      "LateAircraftDelay    (101853292799.0, 0.0)     (59210817224.5, 0.0)   \n",
      "\n",
      "                                  DepDelay                   Origin  \\\n",
      "Month              (13184854676862.0, 0.0)    (330420504623.5, 0.0)   \n",
      "DayofMonth          (9617461388667.5, 0.0)   (1960829192787.5, 0.0)   \n",
      "DayOfWeek          (14782986316461.0, 0.0)    (282714271542.5, 0.0)   \n",
      "DepTime               (23663675961.5, 0.0)    (152750306046.5, 0.0)   \n",
      "CRSDepTime             (8958068617.5, 0.0)     (67162082066.0, 0.0)   \n",
      "UniqueCarrier      (11168916360671.0, 0.0)    (638541817313.5, 0.0)   \n",
      "FlightNum            (273495561750.0, 0.0)   (3054058377910.0, 0.0)   \n",
      "TailNum              (144927096641.0, 0.0)   (1490827196375.5, 0.0)   \n",
      "DepDelay                              None   (1718954407572.5, 0.0)   \n",
      "Origin              (1718954407572.5, 0.0)                     None   \n",
      "Dest                (1709347649406.0, 0.0)  (23161467507673.0, 0.0)   \n",
      "Distance             (109017403117.0, 0.0)   (3210228641729.0, 0.0)   \n",
      "TaxiOut             (9181256549114.0, 0.0)   (1632624879608.0, 0.0)   \n",
      "Diverted           (20381484853987.5, 0.0)     (16088367883.0, 0.0)   \n",
      "CarrierDelay       (19181961331954.0, 0.0)    (490808550914.0, 0.0)   \n",
      "WeatherDelay       (20192402917481.0, 0.0)    (110745998937.5, 0.0)   \n",
      "NASDelay           (18789561282986.0, 0.0)    (528550731832.0, 0.0)   \n",
      "SecurityDelay      (20378533700112.5, 0.0)     (17971973252.0, 0.0)   \n",
      "LateAircraftDelay  (18947513893693.5, 0.0)    (674496245938.0, 0.0)   \n",
      "\n",
      "                                      Dest                 Distance  \\\n",
      "Month                (330941484219.5, 0.0)         (1574917.0, 0.0)   \n",
      "DayofMonth          (1959527827116.0, 0.0)        (61088517.0, 0.0)   \n",
      "DayOfWeek            (283102823231.0, 0.0)               (0.0, 0.0)   \n",
      "DepTime              (152951677983.5, 0.0)   (8557770494243.0, 0.0)   \n",
      "CRSDepTime            (67246768419.5, 0.0)   (8521705313973.5, 0.0)   \n",
      "UniqueCarrier        (638814653860.0, 0.0)         (8026120.0, 0.0)   \n",
      "FlightNum           (3071848511427.0, 0.0)  (12294634264216.5, 0.0)   \n",
      "TailNum             (1497663927773.5, 0.0)   (6108373579392.5, 0.0)   \n",
      "DepDelay            (1709347649406.0, 0.0)    (109017403117.0, 0.0)   \n",
      "Origin             (23161467507673.0, 0.0)   (3210228641729.0, 0.0)   \n",
      "Dest                                  None   (3246401357412.5, 0.0)   \n",
      "Distance            (3246401357412.5, 0.0)                     None   \n",
      "TaxiOut             (1630862779822.0, 0.0)      (6378372231.5, 0.0)   \n",
      "Diverted              (16119453937.0, 0.0)               (0.0, 0.0)   \n",
      "CarrierDelay         (488417808640.0, 0.0)     (31657197172.5, 0.0)   \n",
      "WeatherDelay         (110249010119.5, 0.0)      (7354108065.5, 0.0)   \n",
      "NASDelay             (526327877332.5, 0.0)     (21843440158.0, 0.0)   \n",
      "SecurityDelay         (17996324085.0, 0.0)        (38862837.0, 0.0)   \n",
      "LateAircraftDelay    (670699389845.0, 0.0)     (35581723204.5, 0.0)   \n",
      "\n",
      "                                   TaxiOut                 Diverted  \\\n",
      "Month               (4945181485191.0, 0.0)      (5079855052.5, 0.0)   \n",
      "DayofMonth         (23044021652742.5, 0.0)      (1942588740.0, 0.0)   \n",
      "DayOfWeek            (631013210224.5, 0.0)      (8769178372.5, 0.0)   \n",
      "DepTime               (42169026029.0, 0.0)         (4885995.0, 0.0)   \n",
      "CRSDepTime             (8536899586.5, 0.0)         (8220152.0, 0.0)   \n",
      "UniqueCarrier      (17496875701246.5, 0.0)    (884410439413.0, 0.0)   \n",
      "FlightNum            (376123866790.0, 0.0)        (34581795.0, 0.0)   \n",
      "TailNum              (203471093432.5, 0.0)      (6524375624.0, 0.0)   \n",
      "DepDelay            (9181256549114.0, 0.0)  (20381484853987.5, 0.0)   \n",
      "Origin              (1632624879608.0, 0.0)     (16088367883.0, 0.0)   \n",
      "Dest                (1630862779822.0, 0.0)     (16119453937.0, 0.0)   \n",
      "Distance               (6378372231.5, 0.0)               (0.0, 0.0)   \n",
      "TaxiOut                               None      (3302954419.5, 0.0)   \n",
      "Diverted               (3302954419.5, 0.0)                     None   \n",
      "CarrierDelay        (2761578991302.0, 0.0)  (21371353098750.0, 0.0)   \n",
      "WeatherDelay         (466732820404.0, 0.0)  (23337243200272.0, 0.0)   \n",
      "NASDelay            (3683021535552.0, 0.0)  (20484593387061.0, 0.0)   \n",
      "SecurityDelay         (22342567973.5, 0.0)  (23584408514214.0, 0.0)   \n",
      "LateAircraftDelay   (3621425444969.0, 0.0)  (21272026977266.5, 0.0)   \n",
      "\n",
      "                              CarrierDelay             WeatherDelay  \\\n",
      "Month               (3788235565911.5, 0.0)    (597556583140.0, 0.0)   \n",
      "DayofMonth          (2796771332732.0, 0.0)    (468201875233.5, 0.0)   \n",
      "DayOfWeek           (4123305479941.0, 0.0)    (638337887202.0, 0.0)   \n",
      "DepTime                (7142459071.5, 0.0)      (1229868007.5, 0.0)   \n",
      "CRSDepTime             (2947391865.0, 0.0)       (517255820.5, 0.0)   \n",
      "UniqueCarrier       (4025911280706.5, 0.0)   (1388871501871.5, 0.0)   \n",
      "FlightNum             (76850309018.0, 0.0)     (14671315784.5, 0.0)   \n",
      "TailNum               (45935032988.0, 0.0)     (14013802423.0, 0.0)   \n",
      "DepDelay           (19181961331954.0, 0.0)  (20192402917481.0, 0.0)   \n",
      "Origin               (490808550914.0, 0.0)    (110745998937.5, 0.0)   \n",
      "Dest                 (488417808640.0, 0.0)    (110249010119.5, 0.0)   \n",
      "Distance              (31657197172.5, 0.0)      (7354108065.5, 0.0)   \n",
      "TaxiOut             (2761578991302.0, 0.0)    (466732820404.0, 0.0)   \n",
      "Diverted           (21371353098750.0, 0.0)  (23337243200272.0, 0.0)   \n",
      "CarrierDelay                          None  (21665781534486.5, 0.0)   \n",
      "WeatherDelay       (21665781534486.5, 0.0)                     None   \n",
      "NASDelay           (22758535817054.5, 0.0)  (20786164401578.0, 0.0)   \n",
      "SecurityDelay      (21338435774937.0, 0.0)  (23299952916282.5, 0.0)   \n",
      "LateAircraftDelay  (23470726707752.0, 0.0)  (21559531281938.5, 0.0)   \n",
      "\n",
      "                                  NASDelay            SecurityDelay  \\\n",
      "Month               (5188735470103.0, 0.0)     (32390002863.0, 0.0)   \n",
      "DayofMonth          (3662175729712.5, 0.0)     (19757916292.5, 0.0)   \n",
      "DayOfWeek           (5631863144749.0, 0.0)     (37117247229.0, 0.0)   \n",
      "DepTime                (7797006463.0, 0.0)        (38906038.0, 0.0)   \n",
      "CRSDepTime             (2458476637.5, 0.0)        (16858250.5, 0.0)   \n",
      "UniqueCarrier       (5160809468575.5, 0.0)    (900986727010.5, 0.0)   \n",
      "FlightNum             (84948546560.5, 0.0)       (377218458.0, 0.0)   \n",
      "TailNum               (50278940311.0, 0.0)      (6688422451.0, 0.0)   \n",
      "DepDelay           (18789561282986.0, 0.0)  (20378533700112.5, 0.0)   \n",
      "Origin               (528550731832.0, 0.0)     (17971973252.0, 0.0)   \n",
      "Dest                 (526327877332.5, 0.0)     (17996324085.0, 0.0)   \n",
      "Distance              (21843440158.0, 0.0)        (38862837.0, 0.0)   \n",
      "TaxiOut             (3683021535552.0, 0.0)     (22342567973.5, 0.0)   \n",
      "Diverted           (20484593387061.0, 0.0)  (23584408514214.0, 0.0)   \n",
      "CarrierDelay       (22758535817054.5, 0.0)  (21338435774937.0, 0.0)   \n",
      "WeatherDelay       (20786164401578.0, 0.0)  (23299952916282.5, 0.0)   \n",
      "NASDelay                              None  (20453743399254.0, 0.0)   \n",
      "SecurityDelay      (20453743399254.0, 0.0)                     None   \n",
      "LateAircraftDelay  (22936290871698.5, 0.0)  (21238904417779.0, 0.0)   \n",
      "\n",
      "                         LateAircraftDelay  \n",
      "Month               (4431162774894.0, 0.0)  \n",
      "DayofMonth          (3587020595962.0, 0.0)  \n",
      "DayOfWeek           (4606381945459.5, 0.0)  \n",
      "DepTime                (8460057293.5, 0.0)  \n",
      "CRSDepTime             (3114190091.5, 0.0)  \n",
      "UniqueCarrier       (4799279999500.5, 0.0)  \n",
      "FlightNum            (101853292799.0, 0.0)  \n",
      "TailNum               (59210817224.5, 0.0)  \n",
      "DepDelay           (18947513893693.5, 0.0)  \n",
      "Origin               (674496245938.0, 0.0)  \n",
      "Dest                 (670699389845.0, 0.0)  \n",
      "Distance              (35581723204.5, 0.0)  \n",
      "TaxiOut             (3621425444969.0, 0.0)  \n",
      "Diverted           (21272026977266.5, 0.0)  \n",
      "CarrierDelay       (23470726707752.0, 0.0)  \n",
      "WeatherDelay       (21559531281938.5, 0.0)  \n",
      "NASDelay           (22936290871698.5, 0.0)  \n",
      "SecurityDelay      (21238904417779.0, 0.0)  \n",
      "LateAircraftDelay                     None  \n"
     ]
    }
   ],
   "source": [
    "print(U)"
   ]
  },
  {
   "cell_type": "code",
   "execution_count": null,
   "metadata": {
    "colab": {
     "base_uri": "https://localhost:8080/"
    },
    "id": "vwbs-AL_mSfg",
    "outputId": "6436bb9f-f5ac-4420-fbb8-072bfcc59cf9"
   },
   "outputs": [
    {
     "name": "stdout",
     "output_type": "stream",
     "text": [
      "U critical value, (record counts ^ 2) / 2 = 23622377402162.0 = 2.362238e+13\n",
      "Number of feature pairs having U >= Critical value: 0\n",
      "Number of feature pairs having p-value of U > 0.001: 0\n"
     ]
    }
   ],
   "source": [
    "criticalU = (len(df.index) ** 2) / 2\n",
    "print(f'U critical value, (record counts ^ 2) / 2 = {criticalU} = {criticalU:.6e}') \n",
    "# as all features have the same record counts\n",
    "\n",
    "P_THRESHOLD = 0.001\n",
    "\n",
    "countp = 0\n",
    "countu = 0\n",
    "for c in U.columns:\n",
    "    for i in U.index:\n",
    "        val = U[c][i]\n",
    "        if val is not None:\n",
    "            u, p = U[c][i]\n",
    "            if p > P_THRESHOLD:\n",
    "                countp += 1\n",
    "            if u >= criticalU:\n",
    "                countu += 1\n",
    "\n",
    "print(f'Number of feature pairs having U >= Critical value: {countu}')\n",
    "print(f'Number of feature pairs having p-value of U > {P_THRESHOLD}: {countp}')"
   ]
  },
  {
   "cell_type": "markdown",
   "metadata": {
    "id": "4F-x8Fm1q2gq"
   },
   "source": [
    "- **Comments:**\n",
    "\n",
    "    - All U values are compararitively smaller than the critical value; hence we can confidently reject the Null hypothesis and confirm that every feature has a different distribution than each of the others.\n",
    "\n",
    "    - All p-values are small and close to 0, which means the U-test results are extremely reliable."
   ]
  },
  {
   "cell_type": "markdown",
   "metadata": {
    "id": "eFSM48gJE_dx"
   },
   "source": [
    "## Prediction Models"
   ]
  },
  {
   "cell_type": "markdown",
   "metadata": {
    "id": "yCuYH_4HLJQv"
   },
   "source": [
    "### Categorical: Late or Not Late\n",
    "\n",
    "- Models presented in this section will deal with a classification problem to predict whether the flight is late or not when on departure.\n",
    "\n",
    "- *Again, a flight is late on departure if its DepDelay time exceeding 30 minutes. Exactly 30 minutes still count as on time (not late).*\n",
    "\n",
    "- All models will be trained and tested on the same training and testing set for fair comparisons later."
   ]
  },
  {
   "cell_type": "markdown",
   "metadata": {
    "id": "Gcgm5adUKIui"
   },
   "source": [
    "#### Training and Testing data preparation\n",
    "\n"
   ]
  },
  {
   "cell_type": "markdown",
   "metadata": {
    "id": "xdW6-8XKNlsg"
   },
   "source": [
    "- First, a label for a flight departure delay will be calculated, as 1 (True) if DepDelay value > 30 (minutes), and 0 (False) otherwise."
   ]
  },
  {
   "cell_type": "code",
   "execution_count": 6,
   "metadata": {
    "id": "QqxkHzM8NWZl"
   },
   "outputs": [],
   "source": [
    "cat_X = df[df.columns.drop('DepDelay')]\n",
    "cat_y = [1 if d > 30 else 0 for d in df['DepDelay'].values]"
   ]
  },
  {
   "cell_type": "markdown",
   "metadata": {
    "id": "NYh6iz02WCzj"
   },
   "source": [
    "- Using 30% of the records for testing, 70% for training."
   ]
  },
  {
   "cell_type": "code",
   "execution_count": 7,
   "metadata": {
    "id": "rQMPUEEYRXyh"
   },
   "outputs": [],
   "source": [
    "TEST_SIZE = 0.3\n",
    "RANDOM_STATE = 1108 # Just for reproducing the splitting in cases\n",
    "\n",
    "cat_train_X, cat_test_X, cat_train_y, cat_test_y = train_test_split(cat_X, cat_y, test_size=TEST_SIZE, random_state=RANDOM_STATE, stratify=cat_y)\n",
    "# stratify: retain the same proportion of samples per class when splitting"
   ]
  },
  {
   "cell_type": "code",
   "execution_count": 8,
   "metadata": {
    "colab": {
     "base_uri": "https://localhost:8080/"
    },
    "id": "s7Jf4SdKU3XY",
    "outputId": "8a7884fb-1b8d-4237-cab0-e57ed76c5973"
   },
   "outputs": [
    {
     "name": "stdout",
     "output_type": "stream",
     "text": [
      "Total number of records: 6873482\n",
      "Number of training samples: 4811437\n",
      "Number of testing samples: 2062045\n"
     ]
    }
   ],
   "source": [
    "print(f'Total number of records: {len(df.index)}')\n",
    "print(f'Number of training samples: {len(cat_train_X)}')\n",
    "print(f'Number of testing samples: {len(cat_test_X)}')"
   ]
  },
  {
   "cell_type": "markdown",
   "metadata": {
    "id": "k_uZ1ScCCuvc"
   },
   "source": [
    "#### Naive Bayes"
   ]
  },
  {
   "cell_type": "code",
   "execution_count": null,
   "metadata": {
    "colab": {
     "base_uri": "https://localhost:8080/"
    },
    "id": "mIse5yv4WMCc",
    "outputId": "8d2fd328-5877-45ea-ff11-6b148d864ce2"
   },
   "outputs": [
    {
     "data": {
      "text/plain": [
       "GaussianNB(priors=None, var_smoothing=1e-09)"
      ]
     },
     "execution_count": 62,
     "metadata": {
      "tags": []
     },
     "output_type": "execute_result"
    }
   ],
   "source": [
    "model_NB = GaussianNB()\n",
    "model_NB.fit(cat_train_X, cat_train_y)"
   ]
  },
  {
   "cell_type": "code",
   "execution_count": null,
   "metadata": {
    "id": "swp94tG9XW1P"
   },
   "outputs": [],
   "source": [
    "cat_yhat_NB = model_NB.predict(cat_test_X)\n",
    "acc_NB = accuracy_score(cat_test_y, cat_yhat_NB)"
   ]
  },
  {
   "cell_type": "code",
   "execution_count": null,
   "metadata": {
    "colab": {
     "base_uri": "https://localhost:8080/"
    },
    "id": "G-AWAHTHXiz-",
    "outputId": "6b674bdf-54b2-4e35-9c77-f24af7cd6395"
   },
   "outputs": [
    {
     "name": "stdout",
     "output_type": "stream",
     "text": [
      "Naive Bayes model's accuracy: 0.9566798978683783 ~ 95.6680%\n"
     ]
    }
   ],
   "source": [
    "print(f'Naive Bayes model\\'s accuracy: {acc_NB} ~ {acc_NB * 100:.4f}%')"
   ]
  },
  {
   "cell_type": "markdown",
   "metadata": {
    "id": "XxF5omwJCxYa"
   },
   "source": [
    "#### Logistic Regression"
   ]
  },
  {
   "cell_type": "code",
   "execution_count": null,
   "metadata": {
    "colab": {
     "base_uri": "https://localhost:8080/"
    },
    "id": "jzSZAQmaZJ0u",
    "outputId": "0579feab-366a-470c-9774-bff993d20351"
   },
   "outputs": [
    {
     "name": "stderr",
     "output_type": "stream",
     "text": [
      "/usr/local/lib/python3.7/dist-packages/sklearn/linear_model/_sag.py:330: ConvergenceWarning: The max_iter was reached which means the coef_ did not converge\n",
      "  \"the coef_ did not converge\", ConvergenceWarning)\n"
     ]
    },
    {
     "data": {
      "text/plain": [
       "LogisticRegression(C=1.0, class_weight=None, dual=False, fit_intercept=True,\n",
       "                   intercept_scaling=1, l1_ratio=None, max_iter=200,\n",
       "                   multi_class='auto', n_jobs=None, penalty='l2',\n",
       "                   random_state=None, solver='saga', tol=0.0001, verbose=0,\n",
       "                   warm_start=False)"
      ]
     },
     "execution_count": 71,
     "metadata": {
      "tags": []
     },
     "output_type": "execute_result"
    }
   ],
   "source": [
    "model_LogR = LogisticRegression(solver='saga', max_iter=200)\n",
    "model_LogR.fit(cat_train_X, cat_train_y)"
   ]
  },
  {
   "cell_type": "markdown",
   "metadata": {
    "id": "3pKUodE1iD1b"
   },
   "source": [
    "- **Notice:** \n",
    "    \n",
    "    - It seems that we still did not run enough iterations for the coefficients to converge. However, let us see how the model currently performs.\n",
    "\n",
    "    - *We are using SAGA solver, a modified version of Stochastic Average Gradient, which is suitable for large dataset.*"
   ]
  },
  {
   "cell_type": "code",
   "execution_count": null,
   "metadata": {
    "id": "sJlw8PPuacvY"
   },
   "outputs": [],
   "source": [
    "cat_yhat_LogR = model_LogR.predict(cat_test_X)\n",
    "acc_LogR = accuracy_score(cat_test_y, cat_yhat_LogR)"
   ]
  },
  {
   "cell_type": "code",
   "execution_count": null,
   "metadata": {
    "colab": {
     "base_uri": "https://localhost:8080/"
    },
    "id": "crwp7J7waj0L",
    "outputId": "82e01f88-eddb-427b-cb71-972302f32124"
   },
   "outputs": [
    {
     "name": "stdout",
     "output_type": "stream",
     "text": [
      "Logistic Regression model's accuracy: 0.9735975694031895 ~ 97.3598%\n"
     ]
    }
   ],
   "source": [
    "print(f'Logistic Regression model\\'s accuracy: {acc_LogR} ~ {acc_LogR * 100:.4f}%')"
   ]
  },
  {
   "cell_type": "markdown",
   "metadata": {
    "id": "GC8R-j7Fi4C2"
   },
   "source": [
    "- The accuracy is not bad, with almost 2% higher than that of Naive Bayes."
   ]
  },
  {
   "cell_type": "markdown",
   "metadata": {
    "id": "IpBz9qmxDZGl"
   },
   "source": [
    "#### Random Forest Classification\n",
    "\n",
    "- We also have Random Forest (RF) Regression, but for demonstration, RF Classfication will be carried out."
   ]
  },
  {
   "cell_type": "code",
   "execution_count": null,
   "metadata": {
    "colab": {
     "base_uri": "https://localhost:8080/"
    },
    "id": "Cnq4v0QckaK1",
    "outputId": "7b43f3ba-b5d3-4f13-afc1-ada924502600"
   },
   "outputs": [
    {
     "data": {
      "text/plain": [
       "RandomForestClassifier(bootstrap=True, ccp_alpha=0.0, class_weight=None,\n",
       "                       criterion='gini', max_depth=None, max_features='auto',\n",
       "                       max_leaf_nodes=None, max_samples=None,\n",
       "                       min_impurity_decrease=0.0, min_impurity_split=None,\n",
       "                       min_samples_leaf=1, min_samples_split=2,\n",
       "                       min_weight_fraction_leaf=0.0, n_estimators=100,\n",
       "                       n_jobs=-1, oob_score=False, random_state=None, verbose=0,\n",
       "                       warm_start=False)"
      ]
     },
     "execution_count": 88,
     "metadata": {
      "tags": []
     },
     "output_type": "execute_result"
    }
   ],
   "source": [
    "N_ESTIMATORS = 100\n",
    "CRITERION = 'gini' # gini/entropy\n",
    "\n",
    "model_RFC = RandomForestClassifier(n_estimators=N_ESTIMATORS, criterion=CRITERION, n_jobs=-1)\n",
    "# n_jobs = -1 means using all cores\n",
    "\n",
    "model_RFC.fit(cat_train_X, cat_train_y)"
   ]
  },
  {
   "cell_type": "code",
   "execution_count": null,
   "metadata": {
    "id": "EhyTKVr-lE5v"
   },
   "outputs": [],
   "source": [
    "cat_yhat_RFC = model_RFC.predict(cat_test_X)\n",
    "acc_RFC = accuracy_score(cat_test_y, cat_yhat_RFC)"
   ]
  },
  {
   "cell_type": "code",
   "execution_count": null,
   "metadata": {
    "colab": {
     "base_uri": "https://localhost:8080/"
    },
    "id": "6eYj-F7SlOay",
    "outputId": "4ce377e2-2b7d-48fb-ab72-f2479eb084a2"
   },
   "outputs": [
    {
     "name": "stdout",
     "output_type": "stream",
     "text": [
      "Random Forest model's accuracy: 0.986922690823915 ~ 98.6923%\n"
     ]
    }
   ],
   "source": [
    "print(f'Random Forest model\\'s accuracy: {acc_RFC} ~ {acc_RFC * 100:.4f}%')"
   ]
  },
  {
   "cell_type": "markdown",
   "metadata": {
    "id": "9VOKVOkWDdpg"
   },
   "source": [
    "#### Histogram-based Gradient Boosting Classification\n",
    "\n",
    "- We also have Gradient Boosting Regression if we want to predict continuous departure delay time.\n",
    "\n",
    "- Histogram-based version of Gradient Boosting is much faster for large dataset."
   ]
  },
  {
   "cell_type": "code",
   "execution_count": null,
   "metadata": {
    "id": "4WQxNv4GOpoX",
    "outputId": "11043338-c6a8-4112-b42c-5dca59ab4c3e"
   },
   "outputs": [
    {
     "data": {
      "text/plain": [
       "HistGradientBoostingClassifier()"
      ]
     },
     "execution_count": 16,
     "metadata": {
      "tags": []
     },
     "output_type": "execute_result"
    }
   ],
   "source": [
    "N_ITERS = 100\n",
    "LEARNING_RATE = 0.1\n",
    "\n",
    "model_GBC = HistGradientBoostingClassifier(learning_rate=LEARNING_RATE, max_iter=N_ITERS)\n",
    "\n",
    "model_GBC.fit(cat_train_X, cat_train_y)"
   ]
  },
  {
   "cell_type": "code",
   "execution_count": null,
   "metadata": {
    "id": "t6OsflaMOpoX"
   },
   "outputs": [],
   "source": [
    "cat_yhat_GBC = model_GBC.predict(cat_test_X)\n",
    "acc_GBC = accuracy_score(cat_test_y, cat_yhat_GBC)"
   ]
  },
  {
   "cell_type": "code",
   "execution_count": null,
   "metadata": {
    "id": "Mv0G-rQEOpoX",
    "outputId": "c1fdc537-cd35-4590-b772-f33bb94398ff"
   },
   "outputs": [
    {
     "name": "stdout",
     "output_type": "stream",
     "text": [
      "Gradient Boosting model's accuracy: 0.9888450543028886 ~ 98.8845%\n"
     ]
    }
   ],
   "source": [
    "print(f'Gradient Boosting model\\'s accuracy: {acc_GBC} ~ {acc_GBC * 100:.4f}%')"
   ]
  },
  {
   "cell_type": "markdown",
   "metadata": {},
   "source": [
    "#### Neural Network - Multilayer Perceptron"
   ]
  },
  {
   "cell_type": "code",
   "execution_count": 28,
   "metadata": {},
   "outputs": [
    {
     "name": "stdout",
     "output_type": "stream",
     "text": [
      "Model: \"sequential_1\"\n",
      "_________________________________________________________________\n",
      "Layer (type)                 Output Shape              Param #   \n",
      "=================================================================\n",
      "dense_12 (Dense)             (None, 64)                1216      \n",
      "_________________________________________________________________\n",
      "dropout_9 (Dropout)          (None, 64)                0         \n",
      "_________________________________________________________________\n",
      "dense_13 (Dense)             (None, 32)                2080      \n",
      "_________________________________________________________________\n",
      "dropout_10 (Dropout)         (None, 32)                0         \n",
      "_________________________________________________________________\n",
      "dense_14 (Dense)             (None, 16)                528       \n",
      "_________________________________________________________________\n",
      "dropout_11 (Dropout)         (None, 16)                0         \n",
      "_________________________________________________________________\n",
      "dense_15 (Dense)             (None, 1)                 17        \n",
      "=================================================================\n",
      "Total params: 3,841\n",
      "Trainable params: 3,841\n",
      "Non-trainable params: 0\n",
      "_________________________________________________________________\n",
      "None\n"
     ]
    }
   ],
   "source": [
    "DROPOUT_RATE = 0.1\n",
    "\n",
    "model_NN = Sequential([\n",
    "    Dense(64, input_dim=18, activation='relu'),\n",
    "    Dropout(DROPOUT_RATE),\n",
    "    Dense(32, activation='relu'),\n",
    "    Dropout(DROPOUT_RATE),\n",
    "    Dense(16, activation='relu'),\n",
    "    Dropout(DROPOUT_RATE),\n",
    "    Dense(1, activation='sigmoid')\n",
    "])\n",
    "\n",
    "print(model_NN.summary())"
   ]
  },
  {
   "cell_type": "code",
   "execution_count": 23,
   "metadata": {},
   "outputs": [
    {
     "name": "stdout",
     "output_type": "stream",
     "text": [
      "(4811437, 18)\n",
      "(4811437, 1)\n"
     ]
    }
   ],
   "source": [
    "cat_train_X_NN = cat_train_X.values.reshape(-1, 18)\n",
    "cat_train_y_NN = np.array(cat_train_y).reshape(-1, 1)\n",
    "\n",
    "print(cat_train_X_NN.shape)\n",
    "print(cat_train_y_NN.shape)"
   ]
  },
  {
   "cell_type": "markdown",
   "metadata": {},
   "source": [
    "- Using 30% of the training set as validation set. The training set is 70% of the total, so the validation set is 21% of the total and the new training set is 49%."
   ]
  },
  {
   "cell_type": "code",
   "execution_count": 31,
   "metadata": {},
   "outputs": [
    {
     "name": "stdout",
     "output_type": "stream",
     "text": [
      "Epoch 1/20\n",
      "3290/3290 [==============================] - 13s 4ms/step - loss: 0.7144 - accuracy: 0.8781 - val_loss: 0.1338 - val_accuracy: 0.8815\n",
      "Epoch 2/20\n",
      "3290/3290 [==============================] - 12s 4ms/step - loss: 0.1215 - accuracy: 0.9587 - val_loss: 0.0786 - val_accuracy: 0.9727\n",
      "Epoch 3/20\n",
      "3290/3290 [==============================] - 14s 4ms/step - loss: 0.0779 - accuracy: 0.9721 - val_loss: 0.0513 - val_accuracy: 0.9794\n",
      "Epoch 4/20\n",
      "3290/3290 [==============================] - 14s 4ms/step - loss: 0.0584 - accuracy: 0.9777 - val_loss: 0.0439 - val_accuracy: 0.9818\n",
      "Epoch 5/20\n",
      "3290/3290 [==============================] - 12s 4ms/step - loss: 0.0514 - accuracy: 0.9800 - val_loss: 0.0504 - val_accuracy: 0.9784\n",
      "Epoch 6/20\n",
      "3290/3290 [==============================] - 11s 3ms/step - loss: 0.0483 - accuracy: 0.9813 - val_loss: 0.0500 - val_accuracy: 0.9826\n",
      "Epoch 7/20\n",
      "3290/3290 [==============================] - 13s 4ms/step - loss: 0.0457 - accuracy: 0.9822 - val_loss: 0.0439 - val_accuracy: 0.9801\n",
      "Epoch 8/20\n",
      "3290/3290 [==============================] - 12s 4ms/step - loss: 0.0436 - accuracy: 0.9830 - val_loss: 0.0388 - val_accuracy: 0.9833\n",
      "Epoch 9/20\n",
      "3290/3290 [==============================] - 14s 4ms/step - loss: 0.0418 - accuracy: 0.9838 - val_loss: 0.0384 - val_accuracy: 0.9819\n",
      "Epoch 10/20\n",
      "3290/3290 [==============================] - 13s 4ms/step - loss: 0.0411 - accuracy: 0.9839 - val_loss: 0.0408 - val_accuracy: 0.9818\n",
      "Epoch 11/20\n",
      "3290/3290 [==============================] - 12s 4ms/step - loss: 0.0386 - accuracy: 0.9850 - val_loss: 0.0414 - val_accuracy: 0.9815\n",
      "Epoch 12/20\n",
      "3290/3290 [==============================] - 11s 3ms/step - loss: 0.0354 - accuracy: 0.9862 - val_loss: 0.0245 - val_accuracy: 0.9901\n",
      "Epoch 13/20\n",
      "3290/3290 [==============================] - 11s 3ms/step - loss: 0.0312 - accuracy: 0.9879 - val_loss: 0.0369 - val_accuracy: 0.9838\n",
      "Epoch 14/20\n",
      "3290/3290 [==============================] - 11s 3ms/step - loss: 0.0294 - accuracy: 0.9887 - val_loss: 0.0412 - val_accuracy: 0.9819\n",
      "Epoch 15/20\n",
      "3290/3290 [==============================] - 11s 3ms/step - loss: 0.0280 - accuracy: 0.9892 - val_loss: 0.0428 - val_accuracy: 0.9815\n",
      "Epoch 16/20\n",
      "3290/3290 [==============================] - 11s 3ms/step - loss: 0.0284 - accuracy: 0.9891 - val_loss: 0.0365 - val_accuracy: 0.9852\n",
      "Epoch 17/20\n",
      "3290/3290 [==============================] - 12s 4ms/step - loss: 0.0263 - accuracy: 0.9898 - val_loss: 0.0220 - val_accuracy: 0.9910\n",
      "Epoch 18/20\n",
      "3290/3290 [==============================] - 11s 3ms/step - loss: 0.0255 - accuracy: 0.9903 - val_loss: 0.0183 - val_accuracy: 0.9927\n",
      "Epoch 19/20\n",
      "3290/3290 [==============================] - 12s 3ms/step - loss: 0.0302 - accuracy: 0.9890 - val_loss: 0.0546 - val_accuracy: 0.9779\n",
      "Epoch 20/20\n",
      "3290/3290 [==============================] - 11s 3ms/step - loss: 0.0303 - accuracy: 0.9893 - val_loss: 0.0358 - val_accuracy: 0.9855\n"
     ]
    }
   ],
   "source": [
    "BATCH_SIZE = 1024\n",
    "OPTIMIZER = 'adam'\n",
    "VALIDATION_SPLIT = 0.3\n",
    "\n",
    "NNcallback = ModelCheckpoint(filepath='./model_NN/model_NN', save_weights_only=True, monitor='val_accuracy', mode='max', save_best_only=True)\n",
    "\n",
    "model_NN.compile(loss='binary_crossentropy', optimizer=OPTIMIZER, metrics=['accuracy'])\n",
    "history = model_NN.fit(cat_train_X_NN, cat_train_y_NN, epochs=20, batch_size=BATCH_SIZE, validation_split=VALIDATION_SPLIT, callbacks=[NNcallback])"
   ]
  },
  {
   "cell_type": "code",
   "execution_count": 35,
   "metadata": {},
   "outputs": [
    {
     "data": {
      "text/plain": [
       "<tensorflow.python.training.tracking.util.CheckpointLoadStatus at 0x1898f281588>"
      ]
     },
     "execution_count": 35,
     "metadata": {},
     "output_type": "execute_result"
    }
   ],
   "source": [
    "# Using the weights that give the best validation accuracy\n",
    "model_NN.load_weights('./model_NN/model_NN')"
   ]
  },
  {
   "cell_type": "code",
   "execution_count": 36,
   "metadata": {},
   "outputs": [
    {
     "name": "stdout",
     "output_type": "stream",
     "text": [
      "(2062045, 18)\n",
      "(2062045, 1)\n"
     ]
    }
   ],
   "source": [
    "cat_test_X_NN = cat_test_X.values.reshape(-1, 18)\n",
    "cat_test_y_NN = np.array(cat_test_y).reshape(-1, 1)\n",
    "\n",
    "print(cat_test_X_NN.shape)\n",
    "print(cat_test_y_NN.shape)"
   ]
  },
  {
   "cell_type": "code",
   "execution_count": 38,
   "metadata": {},
   "outputs": [
    {
     "name": "stdout",
     "output_type": "stream",
     "text": [
      "2014/2014 [==============================] - 4s 2ms/step - loss: 0.0181 - accuracy: 0.9927\n"
     ]
    }
   ],
   "source": [
    "loss_NN, acc_NN = model_NN.evaluate(cat_test_X_NN, cat_test_y_NN, batch_size=BATCH_SIZE)"
   ]
  },
  {
   "cell_type": "code",
   "execution_count": 40,
   "metadata": {},
   "outputs": [
    {
     "name": "stdout",
     "output_type": "stream",
     "text": [
      "Neural Network model's accuracy: 0.9926984906196594 ~ 99.2698%\n"
     ]
    }
   ],
   "source": [
    "print(f'Neural Network model\\'s accuracy: {acc_NN} ~ {acc_NN * 100:.4f}%')"
   ]
  },
  {
   "cell_type": "markdown",
   "metadata": {
    "id": "_OA4Xez2dZng"
   },
   "source": [
    "### Continuous: How much Late\n",
    "\n",
    "- Models presented in this section will deal with a regression problem to predict how late on departure a flight could be.\n",
    "\n",
    "- *We will not consider directly the 30 minutes threshold here.* Based on the predicted delay time value, futher classifications can be done easily.\n",
    "\n",
    "- *Negative values are allowed for early departure meaning.*\n",
    "\n",
    "- All models will be trained and tested on the same training and testing set for fair comparisons later."
   ]
  },
  {
   "cell_type": "markdown",
   "metadata": {
    "id": "nYlEj-nBe-bJ"
   },
   "source": [
    "#### Training and Testing data preparation\n",
    "\n",
    "- Using 30% of the records for testing, 70% for training."
   ]
  },
  {
   "cell_type": "code",
   "execution_count": 9,
   "metadata": {
    "id": "-PHrw_gZe8qH"
   },
   "outputs": [],
   "source": [
    "cont_X = df[df.columns.drop('DepDelay')]\n",
    "cont_y = df['DepDelay'].values\n",
    "\n",
    "RANDOM_STATE = 1108 # For preproducing the same splitting if needed, eg. when kernel crashes\n",
    "TEST_SIZE = 0.3\n",
    "\n",
    "cont_train_X, cont_test_X, cont_train_y, cont_test_y = train_test_split(cont_X, cont_y, test_size=TEST_SIZE, random_state=RANDOM_STATE)"
   ]
  },
  {
   "cell_type": "code",
   "execution_count": 10,
   "metadata": {
    "colab": {
     "base_uri": "https://localhost:8080/"
    },
    "id": "E3kl6C0svWn2",
    "outputId": "340ef531-ca4b-42ef-eb05-2e54969e41a0"
   },
   "outputs": [
    {
     "name": "stdout",
     "output_type": "stream",
     "text": [
      "Total number of records: 6873482\n",
      "Number of training samples: 4811437\n",
      "Number of testing samples: 2062045\n"
     ]
    }
   ],
   "source": [
    "print(f'Total number of records: {len(df.index)}')\n",
    "print(f'Number of training samples: {len(cont_train_X)}')\n",
    "print(f'Number of testing samples: {len(cont_test_X)}')"
   ]
  },
  {
   "cell_type": "markdown",
   "metadata": {
    "id": "H7YlhOIxDgt5"
   },
   "source": [
    "#### Support Vector Machine (SVM) Regression (SVR)\n",
    "\n",
    "- Originally, we have SVM Classification (SVC); however, in this section, we will demonstrate Support Vector Regression (SVR) instead."
   ]
  },
  {
   "cell_type": "code",
   "execution_count": 11,
   "metadata": {
    "colab": {
     "base_uri": "https://localhost:8080/"
    },
    "id": "_2KQQb1fwFmz",
    "outputId": "a5b2d082-38af-4e97-d0cb-6b932ae78196"
   },
   "outputs": [
    {
     "name": "stderr",
     "output_type": "stream",
     "text": [
      "/usr/local/lib/python3.7/dist-packages/sklearn/svm/_base.py:947: ConvergenceWarning: Liblinear failed to converge, increase the number of iterations.\n",
      "  \"the number of iterations.\", ConvergenceWarning)\n"
     ]
    },
    {
     "data": {
      "text/plain": [
       "LinearSVR(C=1.0, dual=True, epsilon=0.0, fit_intercept=True,\n",
       "          intercept_scaling=1.0, loss='epsilon_insensitive', max_iter=1000,\n",
       "          random_state=None, tol=0.0001, verbose=0)"
      ]
     },
     "execution_count": 11,
     "metadata": {
      "tags": []
     },
     "output_type": "execute_result"
    }
   ],
   "source": [
    "# KERNEL = 'linear' # linear/poly/rbf/sigmoid/precomputed\n",
    "# model_SVR = svm.SVR(kernel=KERNEL)\n",
    "# 'linear' libsvm is not suitable for large dataset\n",
    "\n",
    "model_SVR = svm.LinearSVR(fit_intercept=True)\n",
    "model_SVR.fit(cont_train_X, cont_train_y)"
   ]
  },
  {
   "cell_type": "markdown",
   "metadata": {
    "id": "uRM2yIFgFa7F"
   },
   "source": [
    "- By default, SVR use RBF kernel, which is non-linear, giving time complexity of $O(n_{samples}^2 \\times n_{features})$. With over 4 million records from our training set, this is too overwhelming for the current resource.\n",
    "\n",
    "- Therefore, we will demonstrate SVR with a linear kernel.\n",
    "\n",
    "- LinearSVR implements liblinear - $O(n)$, which is faster and more suitable for large dataset than SVR with kernel='linear' (libsvm) - $O(n^2)$"
   ]
  },
  {
   "cell_type": "code",
   "execution_count": 12,
   "metadata": {
    "id": "nLxLaHqCxyL_"
   },
   "outputs": [],
   "source": [
    "acc_SVR = model_SVR.score(cont_test_X, cont_test_y)"
   ]
  },
  {
   "cell_type": "code",
   "execution_count": 13,
   "metadata": {
    "colab": {
     "base_uri": "https://localhost:8080/"
    },
    "id": "ZVAKo_fSyH9R",
    "outputId": "53ff930f-7bf5-414e-83d9-5112a9ff6c9d"
   },
   "outputs": [
    {
     "name": "stdout",
     "output_type": "stream",
     "text": [
      "SVR model's accuracy: 0.9136691839180849 ~ 91.3669%\n"
     ]
    }
   ],
   "source": [
    "print(f'SVR model\\'s accuracy: {acc_SVR} ~ {acc_SVR * 100:.4f}%')"
   ]
  },
  {
   "cell_type": "markdown",
   "metadata": {
    "id": "Jofz0MHaDUD7"
   },
   "source": [
    "#### Decision Tree Regression\n",
    "\n",
    "- Similarly, we originally have Decision Tree for classification; again, we will now demonstrate Decision Tree for regression instead."
   ]
  },
  {
   "cell_type": "code",
   "execution_count": null,
   "metadata": {
    "id": "dxWSIIDSOpoa",
    "outputId": "8f771f58-19dd-43a0-e1d3-01cfca2a6c18"
   },
   "outputs": [
    {
     "data": {
      "text/plain": [
       "DecisionTreeRegressor(random_state=1108)"
      ]
     },
     "execution_count": 23,
     "metadata": {
      "tags": []
     },
     "output_type": "execute_result"
    }
   ],
   "source": [
    "CRITERION = 'mse' # mse/friedman_mse/mae/poisson\n",
    "\n",
    "RANDOM_STATE = 1108\n",
    "\n",
    "model_DTR = tree.DecisionTreeRegressor(criterion=CRITERION, random_state=RANDOM_STATE)\n",
    "model_DTR.fit(cont_train_X, cont_train_y)"
   ]
  },
  {
   "cell_type": "code",
   "execution_count": null,
   "metadata": {
    "id": "EEdT8r29Opoa"
   },
   "outputs": [],
   "source": [
    "acc_DTR = model_DTR.score(cont_test_X, cont_test_y)"
   ]
  },
  {
   "cell_type": "code",
   "execution_count": null,
   "metadata": {
    "id": "uMNhAavKOpoa",
    "outputId": "dea510e8-56ab-422b-b1e7-4d06ddf93d14"
   },
   "outputs": [
    {
     "name": "stdout",
     "output_type": "stream",
     "text": [
      "Decision Tree Regressor model's accuracy: 0.9644047877868939 ~ 96.4405%\n"
     ]
    }
   ],
   "source": [
    "print(f'Decision Tree Regressor model\\'s accuracy: {acc_DTR} ~ {acc_DTR * 100:.4f}%')"
   ]
  },
  {
   "cell_type": "markdown",
   "metadata": {
    "id": "6sqpCrLoDRyG"
   },
   "source": [
    "#### Linear Regression - Ordinary Least Squares (OLS) "
   ]
  },
  {
   "cell_type": "code",
   "execution_count": null,
   "metadata": {
    "id": "EOro9SLVOpoa",
    "outputId": "3108e8fa-c862-4f1a-d087-c462ca0b25a8"
   },
   "outputs": [
    {
     "data": {
      "text/plain": [
       "LinearRegression(n_jobs=-1)"
      ]
     },
     "execution_count": 40,
     "metadata": {
      "tags": []
     },
     "output_type": "execute_result"
    }
   ],
   "source": [
    "# fit_intercept will add a column of 1 (a virtual variable) for W0 (a bias/free coefficient)\n",
    "# As Y ~ W0 * 1 + W1 * X1 + ... + Wn * Xn\n",
    "\n",
    "model_OLS = LinearRegression(fit_intercept=True, n_jobs=-1)\n",
    "model_OLS.fit(cont_train_X, cont_train_y)"
   ]
  },
  {
   "cell_type": "code",
   "execution_count": null,
   "metadata": {
    "id": "rgcTK0EnOpob"
   },
   "outputs": [],
   "source": [
    "acc_OLS = model_OLS.score(cont_test_X, cont_test_y)"
   ]
  },
  {
   "cell_type": "code",
   "execution_count": null,
   "metadata": {
    "id": "MdPzq2Q-Opob",
    "outputId": "2b11d7fd-2e32-4b6a-e4e4-29e0cb3c5bab"
   },
   "outputs": [
    {
     "name": "stdout",
     "output_type": "stream",
     "text": [
      "OLS Linear model's accuracy: 0.925745239604188 ~ 92.5745%\n"
     ]
    }
   ],
   "source": [
    "print(f'OLS Linear model\\'s accuracy: {acc_OLS} ~ {acc_OLS * 100:.4f}%')"
   ]
  },
  {
   "cell_type": "markdown",
   "metadata": {
    "id": "_FOB6DvOE_dx"
   },
   "source": [
    "## Feature Selection Models"
   ]
  },
  {
   "cell_type": "markdown",
   "metadata": {
    "id": "1198ZaY0dv8V"
   },
   "source": [
    "### Data preparation\n",
    "\n",
    "- We will reuse the data for classfier models where the DepDelay is coded into categories as 0 or 1."
   ]
  },
  {
   "cell_type": "code",
   "execution_count": null,
   "metadata": {
    "colab": {
     "base_uri": "https://localhost:8080/",
     "height": 215
    },
    "id": "QwckTa62agc5",
    "outputId": "d554390d-b757-4511-ed01-bad2520a96b1"
   },
   "outputs": [
    {
     "data": {
      "text/html": [
       "<div>\n",
       "<style scoped>\n",
       "    .dataframe tbody tr th:only-of-type {\n",
       "        vertical-align: middle;\n",
       "    }\n",
       "\n",
       "    .dataframe tbody tr th {\n",
       "        vertical-align: top;\n",
       "    }\n",
       "\n",
       "    .dataframe thead th {\n",
       "        text-align: right;\n",
       "    }\n",
       "</style>\n",
       "<table border=\"1\" class=\"dataframe\">\n",
       "  <thead>\n",
       "    <tr style=\"text-align: right;\">\n",
       "      <th></th>\n",
       "      <th>Month</th>\n",
       "      <th>DayofMonth</th>\n",
       "      <th>DayOfWeek</th>\n",
       "      <th>DepTime</th>\n",
       "      <th>CRSDepTime</th>\n",
       "      <th>UniqueCarrier</th>\n",
       "      <th>FlightNum</th>\n",
       "      <th>TailNum</th>\n",
       "      <th>Origin</th>\n",
       "      <th>Dest</th>\n",
       "      <th>Distance</th>\n",
       "      <th>TaxiOut</th>\n",
       "      <th>Diverted</th>\n",
       "      <th>CarrierDelay</th>\n",
       "      <th>WeatherDelay</th>\n",
       "      <th>NASDelay</th>\n",
       "      <th>SecurityDelay</th>\n",
       "      <th>LateAircraftDelay</th>\n",
       "    </tr>\n",
       "  </thead>\n",
       "  <tbody>\n",
       "    <tr>\n",
       "      <th>0</th>\n",
       "      <td>1</td>\n",
       "      <td>3</td>\n",
       "      <td>4</td>\n",
       "      <td>2003.0</td>\n",
       "      <td>1955</td>\n",
       "      <td>17</td>\n",
       "      <td>335</td>\n",
       "      <td>3765</td>\n",
       "      <td>135</td>\n",
       "      <td>286</td>\n",
       "      <td>810</td>\n",
       "      <td>8.0</td>\n",
       "      <td>0</td>\n",
       "      <td>0.0</td>\n",
       "      <td>0.0</td>\n",
       "      <td>0.0</td>\n",
       "      <td>0.0</td>\n",
       "      <td>0.0</td>\n",
       "    </tr>\n",
       "    <tr>\n",
       "      <th>1</th>\n",
       "      <td>1</td>\n",
       "      <td>3</td>\n",
       "      <td>4</td>\n",
       "      <td>754.0</td>\n",
       "      <td>735</td>\n",
       "      <td>17</td>\n",
       "      <td>3231</td>\n",
       "      <td>4125</td>\n",
       "      <td>135</td>\n",
       "      <td>286</td>\n",
       "      <td>810</td>\n",
       "      <td>10.0</td>\n",
       "      <td>0</td>\n",
       "      <td>0.0</td>\n",
       "      <td>0.0</td>\n",
       "      <td>0.0</td>\n",
       "      <td>0.0</td>\n",
       "      <td>0.0</td>\n",
       "    </tr>\n",
       "    <tr>\n",
       "      <th>2</th>\n",
       "      <td>1</td>\n",
       "      <td>3</td>\n",
       "      <td>4</td>\n",
       "      <td>628.0</td>\n",
       "      <td>620</td>\n",
       "      <td>17</td>\n",
       "      <td>448</td>\n",
       "      <td>1957</td>\n",
       "      <td>140</td>\n",
       "      <td>48</td>\n",
       "      <td>515</td>\n",
       "      <td>17.0</td>\n",
       "      <td>0</td>\n",
       "      <td>0.0</td>\n",
       "      <td>0.0</td>\n",
       "      <td>0.0</td>\n",
       "      <td>0.0</td>\n",
       "      <td>0.0</td>\n",
       "    </tr>\n",
       "    <tr>\n",
       "      <th>3</th>\n",
       "      <td>1</td>\n",
       "      <td>3</td>\n",
       "      <td>4</td>\n",
       "      <td>926.0</td>\n",
       "      <td>930</td>\n",
       "      <td>17</td>\n",
       "      <td>1746</td>\n",
       "      <td>3055</td>\n",
       "      <td>140</td>\n",
       "      <td>48</td>\n",
       "      <td>515</td>\n",
       "      <td>7.0</td>\n",
       "      <td>0</td>\n",
       "      <td>0.0</td>\n",
       "      <td>0.0</td>\n",
       "      <td>0.0</td>\n",
       "      <td>0.0</td>\n",
       "      <td>0.0</td>\n",
       "    </tr>\n",
       "    <tr>\n",
       "      <th>4</th>\n",
       "      <td>1</td>\n",
       "      <td>3</td>\n",
       "      <td>4</td>\n",
       "      <td>1829.0</td>\n",
       "      <td>1755</td>\n",
       "      <td>17</td>\n",
       "      <td>3920</td>\n",
       "      <td>2138</td>\n",
       "      <td>140</td>\n",
       "      <td>48</td>\n",
       "      <td>515</td>\n",
       "      <td>10.0</td>\n",
       "      <td>0</td>\n",
       "      <td>2.0</td>\n",
       "      <td>0.0</td>\n",
       "      <td>0.0</td>\n",
       "      <td>0.0</td>\n",
       "      <td>32.0</td>\n",
       "    </tr>\n",
       "  </tbody>\n",
       "</table>\n",
       "</div>"
      ],
      "text/plain": [
       "   Month  DayofMonth  DayOfWeek  ...  NASDelay  SecurityDelay  LateAircraftDelay\n",
       "0      1           3          4  ...       0.0            0.0                0.0\n",
       "1      1           3          4  ...       0.0            0.0                0.0\n",
       "2      1           3          4  ...       0.0            0.0                0.0\n",
       "3      1           3          4  ...       0.0            0.0                0.0\n",
       "4      1           3          4  ...       0.0            0.0               32.0\n",
       "\n",
       "[5 rows x 18 columns]"
      ]
     },
     "execution_count": 9,
     "metadata": {
      "tags": []
     },
     "output_type": "execute_result"
    }
   ],
   "source": [
    "fsDat = df[cat_X.columns.values]\n",
    "fsDat.head()"
   ]
  },
  {
   "cell_type": "markdown",
   "metadata": {
    "id": "9qI88el1DmS5"
   },
   "source": [
    "### Principle Component Analysis (PCA)"
   ]
  },
  {
   "cell_type": "code",
   "execution_count": null,
   "metadata": {
    "id": "F_EOz7DUaEa6",
    "outputId": "7c0b6290-51a4-4411-da64-e478c5a258ab"
   },
   "outputs": [
    {
     "data": {
      "text/plain": [
       "PCA(n_components='mle', random_state=1108)"
      ]
     },
     "execution_count": 13,
     "metadata": {
      "tags": []
     },
     "output_type": "execute_result"
    }
   ],
   "source": [
    "N_COMPONENTS = 'mle' # Using 'mle' for Minka's MLE to auto guess the suitable number of components\n",
    "RANDOM_STATE = 1108\n",
    "\n",
    "pca = PCA(n_components=N_COMPONENTS, random_state=RANDOM_STATE)\n",
    "pca.fit(fsDat)"
   ]
  },
  {
   "cell_type": "code",
   "execution_count": null,
   "metadata": {
    "colab": {
     "base_uri": "https://localhost:8080/"
    },
    "id": "pMzsygvngVZL",
    "outputId": "42b32235-5271-4935-99de-62edf145a829"
   },
   "outputs": [
    {
     "name": "stdout",
     "output_type": "stream",
     "text": [
      "Suggested number of components from PCA: 17\n"
     ]
    }
   ],
   "source": [
    "print(f'Suggested number of components from PCA: {pca.n_components_}')"
   ]
  },
  {
   "cell_type": "markdown",
   "metadata": {
    "id": "jTtx2J4y3WrV"
   },
   "source": [
    "- MLE is suggesting keeping 17/18 features, but we want to try even smaller subset of them."
   ]
  },
  {
   "cell_type": "code",
   "execution_count": null,
   "metadata": {
    "id": "oj9x6W7N3WrV",
    "outputId": "e507b5f6-383f-4dba-8b4a-e4c0b54945dc"
   },
   "outputs": [
    {
     "data": {
      "text/plain": [
       "PCA(n_components=9, random_state=1108)"
      ]
     },
     "execution_count": 15,
     "metadata": {
      "tags": []
     },
     "output_type": "execute_result"
    }
   ],
   "source": [
    "N_COMPONENTS = len(fsDat.columns) // 2 # Try to use half the amount of dimensions\n",
    "RANDOM_STATE = 1108\n",
    "\n",
    "pca = PCA(n_components=N_COMPONENTS, random_state=RANDOM_STATE)\n",
    "pca.fit(fsDat)"
   ]
  },
  {
   "cell_type": "code",
   "execution_count": null,
   "metadata": {
    "colab": {
     "base_uri": "https://localhost:8080/"
    },
    "id": "EvY__A0fg9BF",
    "outputId": "9edc4631-ea52-460e-fef0-c4e5c0b54ed8"
   },
   "outputs": [
    {
     "name": "stdout",
     "output_type": "stream",
     "text": [
      "The total explained variance ratio of all dimensions: 0.9999144820325355\n"
     ]
    }
   ],
   "source": [
    "print(f'The total explained variance ratio of all dimensions: {sum(pca.explained_variance_ratio_)}')"
   ]
  },
  {
   "cell_type": "markdown",
   "metadata": {
    "id": "1A550I353WrW"
   },
   "source": [
    "- So with these 9 pricipal axes we can still explain 99.99% of our original data, which is extremely good."
   ]
  },
  {
   "cell_type": "markdown",
   "metadata": {
    "id": "5uNlcdBi3WrW"
   },
   "source": [
    "#### Applying PCA to Gradient Boosting Classfier\n",
    "\n",
    "- We will try to apply PCA to get new data with reduced number of dimensions before doing classification with Histogram-based Gradient Boosting, and see whether this affects the performance or not."
   ]
  },
  {
   "cell_type": "code",
   "execution_count": null,
   "metadata": {
    "id": "Vus8YINj3WrW"
   },
   "outputs": [],
   "source": [
    "fsTrain = pca.transform(cat_train_X)\n",
    "fsTest = pca.transform(cat_test_X)"
   ]
  },
  {
   "cell_type": "code",
   "execution_count": null,
   "metadata": {
    "id": "EXzSwPID3WrX",
    "outputId": "eb6addf2-eed7-41e7-e6f6-ab9bac2732c1"
   },
   "outputs": [
    {
     "name": "stdout",
     "output_type": "stream",
     "text": [
      "Transformed data shape: (4811437, 9), (2062045, 9)\n"
     ]
    }
   ],
   "source": [
    "print(f'Transformed data shape: {fsTrain.shape}, {fsTest.shape}')"
   ]
  },
  {
   "cell_type": "code",
   "execution_count": null,
   "metadata": {
    "id": "rnOmlAj23WrX",
    "outputId": "672f92c7-b218-4848-87f1-c3561cfe0a44"
   },
   "outputs": [
    {
     "data": {
      "text/plain": [
       "HistGradientBoostingClassifier()"
      ]
     },
     "execution_count": 22,
     "metadata": {
      "tags": []
     },
     "output_type": "execute_result"
    }
   ],
   "source": [
    "N_ITERS = 100\n",
    "LEARNING_RATE = 0.1\n",
    "\n",
    "model_GBC_PCA = HistGradientBoostingClassifier(learning_rate=LEARNING_RATE, max_iter=N_ITERS)\n",
    "model_GBC_PCA.fit(fsTrain, cat_train_y)"
   ]
  },
  {
   "cell_type": "code",
   "execution_count": null,
   "metadata": {
    "id": "dqQbmoKi3WrX"
   },
   "outputs": [],
   "source": [
    "acc_GBC_PCA = model_GBC_PCA.score(fsTest, cat_test_y)"
   ]
  },
  {
   "cell_type": "code",
   "execution_count": null,
   "metadata": {
    "id": "ac0Wgt8j3WrX",
    "outputId": "632329f9-3dae-4f5c-85b4-958639a6a024"
   },
   "outputs": [
    {
     "name": "stdout",
     "output_type": "stream",
     "text": [
      "Gradient Boosting model with PCA scores 99.2383% accuracy\n"
     ]
    }
   ],
   "source": [
    "print(f'Gradient Boosting model with PCA scores {acc_GBC_PCA * 100:.4f}% accuracy')"
   ]
  },
  {
   "cell_type": "markdown",
   "metadata": {
    "id": "61i-Iueu3WrY"
   },
   "source": [
    "- So compared to the original accuracy, 98.8845%, PCA helps Gradient Boosting model performs roughly 3.5% better."
   ]
  },
  {
   "cell_type": "markdown",
   "metadata": {
    "id": "uduASN1JDqdO"
   },
   "source": [
    "### SelectKBest"
   ]
  },
  {
   "cell_type": "code",
   "execution_count": null,
   "metadata": {
    "colab": {
     "base_uri": "https://localhost:8080/"
    },
    "id": "LE-VqWRH3WrY",
    "outputId": "f8199612-750c-4ca1-fee4-dac6bc6ee5de"
   },
   "outputs": [
    {
     "data": {
      "text/plain": [
       "SelectKBest(k=9, score_func=<function f_classif at 0x7f37d3742830>)"
      ]
     },
     "execution_count": 13,
     "metadata": {
      "tags": []
     },
     "output_type": "execute_result"
    }
   ],
   "source": [
    "# Using ANOVA F-value for comparison by default\n",
    "\n",
    "N_COMPONENTS = len(fsDat.columns) // 2\n",
    "\n",
    "skb = SelectKBest(k=N_COMPONENTS)\n",
    "skb.fit(fsDat, cat_y)"
   ]
  },
  {
   "cell_type": "code",
   "execution_count": null,
   "metadata": {
    "colab": {
     "base_uri": "https://localhost:8080/"
    },
    "id": "KyZTgDWd3WrZ",
    "outputId": "1f3372be-f108-4767-ec0d-4b84519aada9"
   },
   "outputs": [
    {
     "name": "stdout",
     "output_type": "stream",
     "text": [
      "Transformed data shape: (4811437, 9), (2062045, 9)\n"
     ]
    }
   ],
   "source": [
    "skbTrain = skb.transform(cat_train_X)\n",
    "skbTest = skb.transform(cat_test_X)\n",
    "print(f'Transformed data shape: {skbTrain.shape}, {skbTest.shape}')"
   ]
  },
  {
   "cell_type": "markdown",
   "metadata": {
    "id": "8aN0fEzF4CjK"
   },
   "source": [
    "#### Applying SelectKBest to Gradient Boosting Classfier"
   ]
  },
  {
   "cell_type": "code",
   "execution_count": null,
   "metadata": {
    "colab": {
     "base_uri": "https://localhost:8080/"
    },
    "id": "Tp3GWk5S3WrZ",
    "outputId": "0e320eda-92df-4bb5-cd4e-725e752c943c"
   },
   "outputs": [
    {
     "data": {
      "text/plain": [
       "HistGradientBoostingClassifier(l2_regularization=0.0, learning_rate=0.1,\n",
       "                               loss='auto', max_bins=255, max_depth=None,\n",
       "                               max_iter=100, max_leaf_nodes=31,\n",
       "                               min_samples_leaf=20, n_iter_no_change=None,\n",
       "                               random_state=None, scoring=None, tol=1e-07,\n",
       "                               validation_fraction=0.1, verbose=0,\n",
       "                               warm_start=False)"
      ]
     },
     "execution_count": 15,
     "metadata": {
      "tags": []
     },
     "output_type": "execute_result"
    }
   ],
   "source": [
    "N_ITERS = 100\n",
    "LEARNING_RATE = 0.1\n",
    "\n",
    "model_GBC_SKB = HistGradientBoostingClassifier(learning_rate=LEARNING_RATE, max_iter=N_ITERS)\n",
    "model_GBC_SKB.fit(skbTrain, cat_train_y)"
   ]
  },
  {
   "cell_type": "code",
   "execution_count": null,
   "metadata": {
    "colab": {
     "base_uri": "https://localhost:8080/"
    },
    "id": "eAOvRfgY3Wra",
    "outputId": "1203d403-af85-4d8d-bd76-6cde8d023781"
   },
   "outputs": [
    {
     "name": "stdout",
     "output_type": "stream",
     "text": [
      "Gradient Boosting model with SelectKBest scores 98.9258% accuracy\n"
     ]
    }
   ],
   "source": [
    "acc_GBC_SKB = model_GBC_SKB.score(skbTest, cat_test_y)\n",
    "print(f'Gradient Boosting model with SelectKBest scores {acc_GBC_SKB * 100:.4f}% accuracy')"
   ]
  },
  {
   "cell_type": "markdown",
   "metadata": {
    "id": "qsEt-QUo3Wrb"
   },
   "source": [
    "- Compared to the original accuracy, 98.8845%, and the PCA version's, 99.2383%, SelectKBest helps Gradient Boosting outperforms the original one by 0.04% but loses to PCA by 0.31%."
   ]
  },
  {
   "cell_type": "markdown",
   "metadata": {
    "id": "ak8YG-36Dtis"
   },
   "source": [
    "### Recursive Feature Elimination (RFE)\n",
    "\n",
    "- We will use Stochastic Gradient Descent (SGD) Classifier, which utilizes a Support Vector Classifier (SVC) by default, as the estimator for RFE. This is for demonstration only.\n",
    "\n",
    "- With limited resource, the algorithm will be run with step 9, meaning eliminating 9 features each time. For an ideal run and better performance, set step to 1."
   ]
  },
  {
   "cell_type": "code",
   "execution_count": null,
   "metadata": {
    "colab": {
     "base_uri": "https://localhost:8080/"
    },
    "id": "9lVIukcX3Wrc",
    "outputId": "fbf543b7-e688-45b3-e3a3-97944e8e11c4"
   },
   "outputs": [
    {
     "data": {
      "text/plain": [
       "RFE(estimator=SGDClassifier(alpha=0.0001, average=False, class_weight=None,\n",
       "                            early_stopping=False, epsilon=0.1, eta0=0.0,\n",
       "                            fit_intercept=True, l1_ratio=0.15,\n",
       "                            learning_rate='optimal', loss='hinge',\n",
       "                            max_iter=1000, n_iter_no_change=5, n_jobs=None,\n",
       "                            penalty='l2', power_t=0.5, random_state=None,\n",
       "                            shuffle=True, tol=0.001, validation_fraction=0.1,\n",
       "                            verbose=0, warm_start=False),\n",
       "    n_features_to_select=9, step=9, verbose=0)"
      ]
     },
     "execution_count": 10,
     "metadata": {
      "tags": []
     },
     "output_type": "execute_result"
    }
   ],
   "source": [
    "estimator = SGDClassifier()\n",
    "\n",
    "N_COMPONENTS = len(fsDat.columns) // 2\n",
    "STEP = 9 # Try smaller step if resource allows (ideal = 1)\n",
    "\n",
    "rfe = RFE(estimator, n_features_to_select=N_COMPONENTS, step=STEP)\n",
    "rfe.fit(fsDat, cat_y)"
   ]
  },
  {
   "cell_type": "code",
   "execution_count": null,
   "metadata": {
    "colab": {
     "base_uri": "https://localhost:8080/"
    },
    "id": "Q6T-Fxun3Wrc",
    "outputId": "e75f7cc4-c027-4c46-c12d-03fafaee9b96"
   },
   "outputs": [
    {
     "name": "stdout",
     "output_type": "stream",
     "text": [
      "Transformed data shape: (4811437, 9), (2062045, 9)\n"
     ]
    }
   ],
   "source": [
    "rfeTrain = rfe.transform(cat_train_X)\n",
    "rfeTest = rfe.transform(cat_test_X)\n",
    "print(f'Transformed data shape: {rfeTrain.shape}, {rfeTest.shape}')"
   ]
  },
  {
   "cell_type": "markdown",
   "metadata": {
    "id": "bkpVAx5I_YgC"
   },
   "source": [
    "#### Applying RFE to Gradient Boosting Classifier"
   ]
  },
  {
   "cell_type": "code",
   "execution_count": null,
   "metadata": {
    "colab": {
     "base_uri": "https://localhost:8080/"
    },
    "id": "ae6jJ10a3Wrc",
    "outputId": "b6b86171-4d67-40f8-da33-833c127dd18b"
   },
   "outputs": [
    {
     "data": {
      "text/plain": [
       "HistGradientBoostingClassifier(l2_regularization=0.0, learning_rate=0.1,\n",
       "                               loss='auto', max_bins=255, max_depth=None,\n",
       "                               max_iter=100, max_leaf_nodes=31,\n",
       "                               min_samples_leaf=20, n_iter_no_change=None,\n",
       "                               random_state=None, scoring=None, tol=1e-07,\n",
       "                               validation_fraction=0.1, verbose=0,\n",
       "                               warm_start=False)"
      ]
     },
     "execution_count": 18,
     "metadata": {
      "tags": []
     },
     "output_type": "execute_result"
    }
   ],
   "source": [
    "N_ITERS = 100\n",
    "LEARNING_RATE = 0.1\n",
    "\n",
    "model_GBC_RFE = HistGradientBoostingClassifier(learning_rate=LEARNING_RATE, max_iter=N_ITERS)\n",
    "model_GBC_RFE.fit(rfeTrain, cat_train_y)"
   ]
  },
  {
   "cell_type": "code",
   "execution_count": null,
   "metadata": {
    "colab": {
     "base_uri": "https://localhost:8080/"
    },
    "id": "IZShQaQi3Wrc",
    "outputId": "032bae7a-d39c-4f62-8419-af28e7c0ab1e"
   },
   "outputs": [
    {
     "name": "stdout",
     "output_type": "stream",
     "text": [
      "Gradient Boosting model with RFE scores 98.1148% accuracy\n"
     ]
    }
   ],
   "source": [
    "acc_GBC_RFE = model_GBC_RFE.score(rfeTest, cat_test_y)\n",
    "print(f'Gradient Boosting model with RFE scores {acc_GBC_RFE * 100:.4f}% accuracy')"
   ]
  },
  {
   "cell_type": "markdown",
   "metadata": {
    "id": "lEpioQ_F_OU1"
   },
   "source": [
    "- Compared to the original accuracy, 98.8845%, the PCA version's, 99.2383%, and the SelectKBest version's, 98.9258%, RFE poorly loses to all of them. It scores even 0.77% lower than the original accuracy."
   ]
  },
  {
   "cell_type": "markdown",
   "metadata": {
    "id": "RxUVgvoAE_dy"
   },
   "source": [
    "## Model Comparison and Analysis"
   ]
  },
  {
   "cell_type": "markdown",
   "metadata": {
    "id": "U1MwARxv3Wrd"
   },
   "source": [
    "### Comparing classification models for the categorical variable problem"
   ]
  },
  {
   "cell_type": "code",
   "execution_count": null,
   "metadata": {
    "id": "YFdOHLN55l8K"
   },
   "outputs": [],
   "source": [
    "accs = pd.DataFrame(index=['NaiveBayes', 'LogisticRegression', 'RandomForest', 'GradientBoosting', 'MultilayerPerceptron'], columns=['Accuracy'], data=[[acc_NB], [acc_LogR], [acc_RFC], [acc_GBC], [acc_NN]])\n",
    "accs.sort_values(['Accuracy'], axis=0, inplace=True, ascending=False)"
   ]
  },
  {
   "cell_type": "markdown",
   "metadata": {
    "id": "f7yLr9wgAJv2"
   },
   "source": [
    "- **Performance table for demonstrated models:**"
   ]
  },
  {
   "cell_type": "code",
   "execution_count": null,
   "metadata": {
    "colab": {
     "base_uri": "https://localhost:8080/"
    },
    "id": "GA_9QocMALfE",
    "outputId": "953fc2f4-4462-4366-f6d8-f035eddc768a"
   },
   "outputs": [
    {
     "name": "stdout",
     "output_type": "stream",
     "text": [
      "                      Accuracy\n",
      "MultilayerPerceptron  0.992698\n",
      "GradientBoosting      0.988845\n",
      "RandomForest          0.986923\n",
      "LogisticRegression    0.973598\n",
      "NaiveBayes            0.956680\n"
     ]
    }
   ],
   "source": [
    "print(accs)"
   ]
  },
  {
   "cell_type": "markdown",
   "metadata": {
    "id": "Yi7n-JctAPlP"
   },
   "source": [
    "- **Fully connected Neural Network scores best.**\n",
    "    - This is not surprise as it gives a non-linear classfication line that supremely fits and separates our data.\n",
    "    - However, with such a large dataset, overfiting can easily occurs, although we have already put in some dropout layers.\n",
    "\n",
    "- **Histogram-based Gradient Boosting scores second.**\n",
    "    - As an ensemble of sub linear models, it should outperform single linear ones such as logistic regression.\n",
    "\n",
    "- **Random Forest scores third.**\n",
    "    - With the same nature of an ensemble method like Gradient Boosting, it scores quite well.\n",
    "\n",
    "- **Logistic Regression scores fourth.**\n",
    "    - A single linear classifier as logistic regression cannot be more accurate than a combination of many linear solutions like Gradient Boosting or Random Forest.\n",
    "\n",
    "- **Naive Bayes scores worst.**\n",
    "    - As a simple statistic model, it is not supposed to compete with more complicated ones as the others."
   ]
  },
  {
   "cell_type": "markdown",
   "metadata": {
    "id": "PJ5cVDGDCnFJ"
   },
   "source": [
    "### Comparing regression models for the continuous variable problem"
   ]
  },
  {
   "cell_type": "code",
   "execution_count": null,
   "metadata": {
    "id": "TXN-cWOxCtHy"
   },
   "outputs": [],
   "source": [
    "accsReg = pd.DataFrame(index=['SupportVectorRegression', 'DecisionTreeRegression', 'OLSLinearRegression'], columns=['Accuracy'], data=[[acc_SVR], [acc_DTR], [acc_OLS]])\n",
    "accsReg.sort_values(['Accuracy'], axis=0, inplace=True, ascending=False)"
   ]
  },
  {
   "cell_type": "markdown",
   "metadata": {
    "id": "PHBYFU1DDrLl"
   },
   "source": [
    "- **Performance table for demonstrated models:**"
   ]
  },
  {
   "cell_type": "code",
   "execution_count": null,
   "metadata": {
    "colab": {
     "base_uri": "https://localhost:8080/"
    },
    "id": "izdhSm_tDuSj",
    "outputId": "1eaf1ab7-aa2a-48ce-d648-c8495daecac9"
   },
   "outputs": [
    {
     "name": "stdout",
     "output_type": "stream",
     "text": [
      "                         Accuracy\n",
      "DecisionTreeRegression   0.964405\n",
      "OLSLinearRegression      0.925745\n",
      "SupportVectorRegression  0.913669\n"
     ]
    }
   ],
   "source": [
    "print(accsReg)"
   ]
  },
  {
   "cell_type": "markdown",
   "metadata": {
    "id": "t04HqI_ZDxZ7"
   },
   "source": [
    "- **Decision Tree Regression scores best.**\n",
    "    - Being a non-linear model, decision tree should outpeform the other linear ones. Working like neural networks, which doing sub classification (passing through a layer) out of previous classification (from the previous layer), decision tree splits the data many times into smaller and smaller subsets.\n",
    "    - For regression, it does splitting in a way that minimizes the sum of squared residuals.\n",
    "\n",
    "- **OLS Linear Regression scores second.**\n",
    "    - There is no doubt, as explained above, it loses to Decision Tree.\n",
    "    - For a large number of features, there will be a high probability that multicolinearity exists, which makes our model unreliable.\n",
    "    - Multicolinearity tests such as Variance Inflation Factor (VIF) should be carried out to investigate the dependence between any pair of features.\n",
    "\n",
    "- **Linear Support Vector Regression scores worst.**\n",
    "    - If we have more resource to use a non-linear kernel such as RBF, it may score higher."
   ]
  },
  {
   "cell_type": "markdown",
   "metadata": {
    "id": "P7kfhT-_Gjdn"
   },
   "source": [
    "### Comparing feature selection techniques\n",
    "\n",
    "- As presented in details while testing each technique with Histogram Gradient Boosting, here is a brief summary:\n",
    "\n",
    "    - **PCA is the best choice** when scores higher than the original Boosting and both SelectKBest and RFE.\n",
    "\n",
    "    - **SelectKBest is still a good choice** when at least its accuracy exceeds the orginal one.\n",
    "\n",
    "    - **RFE is not recommended** since it scores even lower than the original accuracy.\n",
    "        - Maybe with better resource, we can try more complicated estimator for it, other than SGD Classfier."
   ]
  },
  {
   "cell_type": "markdown",
   "metadata": {
    "id": "ZNQxxKufE_dx"
   },
   "source": [
    "## Model Tuning"
   ]
  },
  {
   "cell_type": "markdown",
   "metadata": {
    "id": "MY3QE2APH47s"
   },
   "source": [
    "### Theoretical approaches\n",
    "\n",
    "- In this section, ways to improve each model's performance will be discussed.\n",
    "\n",
    "- **For Naive Bayes:**\n",
    "    - Using log probabilities.\n",
    "    - Using other distributions.\n",
    "    - Use probabilities for feature selection.\n",
    "    - Remove redundant features by applying feature selection.\n",
    "    - Segment the data.\n",
    "\n",
    "- **For linear models such as OLS Linear Regression and Logistic Regression:**\n",
    "    - Checking and removing multicolinearity.\n",
    "    - Normalizing features, eg. by z-scores.\n",
    "    - Checking for class imbalance (if for classification problems).\n",
    "    \n",
    "- **For ensemble models such as Boosting and Random Forest:**\n",
    "    - Tuning the hyperparameters such as number of weak models (components), number of iterations, ...\n",
    "\n",
    "- **For Decision Tree:**\n",
    "    - We can try apply Boosting where each weak model is a Decistion Tree classifier/regressor.\n",
    "\n",
    "- **For Neural Network:**\n",
    "    - Experimenting different network structures.\n",
    "    - Using k-fold for cross-validation in training.\n",
    "    - Tuning hyperparameters such as batch sizes, number of epochs, ...\n",
    "    - Using different optimizers and activations."
   ]
  },
  {
   "cell_type": "markdown",
   "metadata": {
    "id": "_HFPmnMNK7i1"
   },
   "source": [
    "### Tuning the Neural Network model\n",
    "\n",
    "- For demonstration, I can only experiment with the Neural Network model for the classification problem."
   ]
  },
  {
   "cell_type": "code",
   "execution_count": 17,
   "metadata": {
    "colab": {
     "base_uri": "https://localhost:8080/"
    },
    "id": "ZQAmmkaNLpRw",
    "outputId": "d4be0bb5-6bdc-45be-a297-6db6b93daf94"
   },
   "outputs": [
    {
     "name": "stdout",
     "output_type": "stream",
     "text": [
      "INFO:tensorflow:Reloading Oracle from existing project ./NN-tuning/oracle.json\n",
      "Search space summary\n",
      "Default search space size: 8\n",
      "units1 (Int)\n",
      "{'default': 128, 'conditions': [], 'min_value': 16, 'max_value': 512, 'step': 16, 'sampling': None}\n",
      "dense_activation1 (Choice)\n",
      "{'default': 'relu', 'conditions': [], 'values': ['relu', 'tanh', 'sigmoid'], 'ordered': False}\n",
      "dropout1 (Float)\n",
      "{'default': 0.1, 'conditions': [], 'min_value': 0.0, 'max_value': 0.5, 'step': 0.1, 'sampling': None}\n",
      "units2 (Int)\n",
      "{'default': 128, 'conditions': [], 'min_value': 16, 'max_value': 512, 'step': 16, 'sampling': None}\n",
      "dense_activation2 (Choice)\n",
      "{'default': 'relu', 'conditions': [], 'values': ['relu', 'tanh', 'sigmoid'], 'ordered': False}\n",
      "units3 (Int)\n",
      "{'default': 128, 'conditions': [], 'min_value': 16, 'max_value': 512, 'step': 16, 'sampling': None}\n",
      "dense_activation3 (Choice)\n",
      "{'default': 'relu', 'conditions': [], 'values': ['relu', 'tanh', 'sigmoid'], 'ordered': False}\n",
      "learning_rate (Float)\n",
      "{'default': 0.001, 'conditions': [], 'min_value': 0.0001, 'max_value': 0.01, 'step': None, 'sampling': 'log'}\n"
     ]
    }
   ],
   "source": [
    "def buildNN(hp):\n",
    "\n",
    "    MIN_DENSE_N = 16\n",
    "    MAX_DENSE_N = 512\n",
    "    STEP_N = 16\n",
    "    DEFAULT_N = 128\n",
    "\n",
    "    ACTIVATIONS = ['relu', 'tanh', 'sigmoid']\n",
    "    DEFAULT_F = 'relu'\n",
    "\n",
    "    MIN_DROP = 0.0\n",
    "    MAX_DROP = 0.5\n",
    "    STEP_DROP = 0.1\n",
    "    DEFAULT_DROP = 0.1\n",
    "    \n",
    "    model = Sequential([ \n",
    "        Dense(units=hp.Int('units1', min_value=MIN_DENSE_N, max_value=MAX_DENSE_N, step=STEP_N, default=DEFAULT_N),\n",
    "              activation=hp.Choice('dense_activation1', values=ACTIVATIONS, default=DEFAULT_F)),\n",
    "        Dropout(rate=hp.Float('dropout1', min_value=MIN_DROP, max_value=MAX_DROP, step=STEP_DROP, default=DEFAULT_DROP)),\n",
    "        Dense(units=hp.Int('units2', min_value=MIN_DENSE_N, max_value=MAX_DENSE_N, step=STEP_N, default=DEFAULT_N),\n",
    "              activation=hp.Choice('dense_activation2', values=ACTIVATIONS, default=DEFAULT_F)),\n",
    "        Dropout(rate=hp.Float('dropout1', min_value=MIN_DROP, max_value=MAX_DROP, step=STEP_DROP, default=DEFAULT_DROP)),\n",
    "        Dense(units=hp.Int('units3', min_value=MIN_DENSE_N, max_value=MAX_DENSE_N, step=STEP_N, default=DEFAULT_N),\n",
    "              activation=hp.Choice('dense_activation3', values=ACTIVATIONS, default=DEFAULT_F)),\n",
    "        Dropout(rate=hp.Float('dropout1', min_value=MIN_DROP, max_value=MAX_DROP, step=STEP_DROP, default=DEFAULT_DROP)),\n",
    "        Dense(units=1, activation='sigmoid')       \n",
    "    ])\n",
    "\n",
    "    model.compile(loss='binary_crossentropy', metrics=['accuracy'],\n",
    "                  optimizer=tf.keras.optimizers.Adam(hp.Float('learning_rate', min_value=0.0001, max_value=0.01, sampling='LOG', default=0.001)))\n",
    "    \n",
    "    return model\n",
    "\n",
    "tuner = RandomSearch(buildNN, objective='val_accuracy', max_trials=5, directory='./', project_name='NN-tuning', executions_per_trial=1)\n",
    "tuner.search_space_summary()"
   ]
  },
  {
   "cell_type": "code",
   "execution_count": 18,
   "metadata": {
    "colab": {
     "base_uri": "https://localhost:8080/"
    },
    "id": "KD2Kj--4SQjI",
    "outputId": "119931bb-370a-45ba-8cc1-374a73d9d6e9"
   },
   "outputs": [
    {
     "name": "stdout",
     "output_type": "stream",
     "text": [
      "Trial 5 Complete [00h 08m 23s]\n",
      "val_accuracy: 0.977241039276123\n",
      "\n",
      "Best val_accuracy So Far: 0.9821681976318359\n",
      "Total elapsed time: 00h 39m 50s\n",
      "INFO:tensorflow:Oracle triggered exit\n"
     ]
    }
   ],
   "source": [
    "tuner.search(cat_train_X_NN, cat_train_y_NN, epochs=20, validation_split=0.3, batch_size=1024)"
   ]
  },
  {
   "cell_type": "code",
   "execution_count": 22,
   "metadata": {
    "colab": {
     "base_uri": "https://localhost:8080/"
    },
    "id": "yt0VRpxaeefW",
    "outputId": "3ca05d97-dcca-4543-bb19-9910f1e88504"
   },
   "outputs": [
    {
     "name": "stdout",
     "output_type": "stream",
     "text": [
      "Results summary\n",
      "Results in ./NN-tuning\n",
      "Showing 10 best trials\n",
      "Objective(name='val_accuracy', direction='max')\n",
      "Trial summary\n",
      "Hyperparameters:\n",
      "units1: 480\n",
      "dense_activation1: tanh\n",
      "dropout1: 0.30000000000000004\n",
      "units2: 512\n",
      "dense_activation2: sigmoid\n",
      "units3: 192\n",
      "dense_activation3: sigmoid\n",
      "learning_rate: 0.000283322409508102\n",
      "Score: 0.9821681976318359\n",
      "Trial summary\n",
      "Hyperparameters:\n",
      "units1: 432\n",
      "dense_activation1: tanh\n",
      "dropout1: 0.30000000000000004\n",
      "units2: 240\n",
      "dense_activation2: tanh\n",
      "units3: 32\n",
      "dense_activation3: tanh\n",
      "learning_rate: 0.00021148822061093226\n",
      "Score: 0.9811373353004456\n",
      "Trial summary\n",
      "Hyperparameters:\n",
      "units1: 240\n",
      "dense_activation1: sigmoid\n",
      "dropout1: 0.4\n",
      "units2: 224\n",
      "dense_activation2: relu\n",
      "units3: 320\n",
      "dense_activation3: tanh\n",
      "learning_rate: 0.0017203964942403656\n",
      "Score: 0.978061318397522\n",
      "Trial summary\n",
      "Hyperparameters:\n",
      "units1: 464\n",
      "dense_activation1: tanh\n",
      "dropout1: 0.1\n",
      "units2: 240\n",
      "dense_activation2: relu\n",
      "units3: 112\n",
      "dense_activation3: sigmoid\n",
      "learning_rate: 0.0009403511195530857\n",
      "Score: 0.977241039276123\n",
      "Trial summary\n",
      "Hyperparameters:\n",
      "units1: 480\n",
      "dense_activation1: sigmoid\n",
      "dropout1: 0.2\n",
      "units2: 64\n",
      "dense_activation2: relu\n",
      "units3: 304\n",
      "dense_activation3: sigmoid\n",
      "learning_rate: 0.003998503337915657\n",
      "Score: 0.9744691848754883\n"
     ]
    }
   ],
   "source": [
    "tuner.results_summary()"
   ]
  },
  {
   "cell_type": "code",
   "execution_count": null,
   "metadata": {
    "id": "x304xz6sfuF-"
   },
   "outputs": [],
   "source": [
    "%%capture\n",
    "bestNN = tuner.get_best_models()[0]"
   ]
  },
  {
   "cell_type": "code",
   "execution_count": 28,
   "metadata": {
    "colab": {
     "base_uri": "https://localhost:8080/"
    },
    "id": "JizWUvZjgBRr",
    "outputId": "cfcb466b-e31b-4d96-bf1b-ba36965f5acf"
   },
   "outputs": [
    {
     "name": "stdout",
     "output_type": "stream",
     "text": [
      "2014/2014 [==============================] - 6s 3ms/step - loss: 0.0411 - accuracy: 0.9820\n"
     ]
    }
   ],
   "source": [
    "loss, acc = bestNN.evaluate(cat_test_X_NN, cat_test_y_NN, batch_size=1024)"
   ]
  },
  {
   "cell_type": "markdown",
   "metadata": {
    "id": "pB0KARBUg2yE"
   },
   "source": [
    "- The accuracy from the best randomly built model is actually worse than our manually built one.\n",
    "\n",
    "- However, this is only for demonstrating the way to tune a Neural Network. With more trials, executions, and configurations, a better model is sure to be found."
   ]
  },
  {
   "cell_type": "markdown",
   "metadata": {
    "id": "Q65tgelzE_dy"
   },
   "source": [
    "## Conclusion"
   ]
  },
  {
   "cell_type": "markdown",
   "metadata": {
    "id": "lapBmbiBYuT2"
   },
   "source": [
    "- **About the data:**\n",
    "    - The data are not well described from the original authors. Some of the features are vague in meanings. Contraints and relationships among features are manually inferred most of the times.\n",
    "    - Buffering techniques are necessary to work with such a large dataset.\n",
    "    - z-scores can be used to normalized values for better performance of tests and models.\n",
    "    - There is an interesting fact that the number of flights departing early is more than those late, and most late ones happen in December.\n",
    "\n",
    "- **About prediction models:**\n",
    "    - Non-linear solutions such as Neural Networks, Decision Trees, non-linear SVM, ... are highly recommended.\n",
    "    - Ensemble methods such as Boosting or Random Forest are also suitable.\n",
    "    - Linear models and Naive Bayes do not perform well compared to the others, but they can compensate for fast computational speed.\n",
    "\n",
    "- **About feature selection models:**\n",
    "    - PCA is highly recommended for both speed and effectiveness.\n",
    "    - SelectKBest can be another fairly good choice.\n",
    "    - RFE is not good enough to be proposed, and the running time is rather high.\n",
    "\n",
    "- **Future works:**\n",
    "    - Trying other classification and regression models.\n",
    "    - Carrying out model tuning approaches.\n",
    "    - Continuing to perform tuning for Neural Network in a larger space with more trials.\n"
   ]
  },
  {
   "cell_type": "markdown",
   "metadata": {
    "id": "Sr8rs9YSE_dy"
   },
   "source": [
    "## References\n",
    "\n",
    "- Data Expo 2009 - Airline on-time performance, [url](https://community.amstat.org/jointscsg-section/dataexpo/dataexpo2009).\n",
    "\n",
    "- Matplotlib Documentation, [url](https://matplotlib.org/stable/contents.html).\n",
    "\n",
    "- Pandas Documentation, [url](https://pandas.pydata.org/docs/).\n",
    "\n",
    "- t-Test: Definition and Examples, [url](https://www.statisticshowto.com/probability-and-statistics/t-test/).\n",
    "\n",
    "- Seaborn Documentation, [url](https://seaborn.pydata.org/).\n",
    "\n",
    "- Mann Whitney U-Test: Definition & How to, [url](https://www.statisticshowto.com/mann-whitney-u-test/).\n",
    "\n",
    "- Interpreting results: Mann-Whitney test, [url](https://www.graphpad.com/guides/prism/latest/statistics/how_the_mann-whitney_test_works.htm).\n",
    "\n",
    "- Scikit-Learn User Guide, [url](https://scikit-learn.org/stable/user_guide.html).\n",
    "\n",
    "- Naive Bayes, [url](https://scikit-learn.org/stable/modules/naive_bayes.html).\n",
    "\n",
    "- Linear Model: Logistic Regression, [url](https://scikit-learn.org/stable/modules/linear_model.html#logistic-regression).\n",
    "\n",
    "- Logistic Regression convergence problems and solver choices, [url](https://stackoverflow.com/questions/62658215/convergencewarning-lbfgs-failed-to-converge-status-1-stop-total-no-of-iter).\n",
    "\n",
    "- Forest of randomized trees, [url](https://scikit-learn.org/stable/modules/ensemble.html#forests-of-randomized-trees).\n",
    "\n",
    "- Histogram-based Gradient Boosting, [url](https://scikit-learn.org/stable/modules/ensemble.html#histogram-based-gradient-boosting)\n",
    "\n",
    "- Support Vector Regression, [url](https://scikit-learn.org/stable/modules/svm.html#regression).\n",
    "\n",
    "- Decision Tree Regression, [url](https://scikit-learn.org/stable/modules/tree.html#regression).\n",
    "\n",
    "- Keras Documentation, [url](https://keras.io/).\n",
    "\n",
    "- Decomposing signals in components (matrix factorization problems), [url](https://scikit-learn.org/stable/modules/decomposition.html#principal-component-analysis-pca).\n",
    "\n",
    "- PCA using Python (scikit-learn), [url](https://towardsdatascience.com/pca-using-python-scikit-learn-e653f8989e60).\n",
    "\n",
    "- Univariate feature selection, [url](https://scikit-learn.org/stable/modules/feature_selection.html#univariate-feature-selection).\n",
    "\n",
    "- Linear regression vs Decision trees, [url](https://mlcorner.com/linear-regression-vs-decision-trees/).\n",
    "\n",
    "*All links were last accessed on **June 01, 2021**.*"
   ]
  }
 ],
 "metadata": {
  "colab": {
   "collapsed_sections": [],
   "name": "delay_prediction.ipynb",
   "provenance": [],
   "toc_visible": true
  },
  "kernelspec": {
   "display_name": "Python 3",
   "language": "python",
   "name": "python3"
  },
  "language_info": {
   "codemirror_mode": {
    "name": "ipython",
    "version": 3
   },
   "file_extension": ".py",
   "mimetype": "text/x-python",
   "name": "python",
   "nbconvert_exporter": "python",
   "pygments_lexer": "ipython3",
   "version": "3.7.10"
  },
  "toc": {
   "base_numbering": 1,
   "nav_menu": {
    "height": "300px",
    "width": "317px"
   },
   "number_sections": true,
   "sideBar": true,
   "skip_h1_title": true,
   "title_cell": "Table of Contents",
   "title_sidebar": "Contents",
   "toc_cell": false,
   "toc_position": {},
   "toc_section_display": true,
   "toc_window_display": true
  }
 },
 "nbformat": 4,
 "nbformat_minor": 1
}
